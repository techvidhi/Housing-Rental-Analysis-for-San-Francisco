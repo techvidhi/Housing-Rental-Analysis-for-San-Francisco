{
 "cells": [
  {
   "cell_type": "code",
   "execution_count": null,
   "metadata": {},
   "outputs": [],
   "source": [
    "# Housing Rental Analysis for San Francisco\n",
    "\n",
    "In this challenge, your job is to use your data visualisation skills, including aggregation, interactive visualisations, and geospatial analysis, to find properties in the San Francisco market that are viable investment opportunities.\n",
    "\n",
    "### Instructions\n",
    "\n",
    "Use the `san_francisco_housing.ipynb` notebook to visualise and analyse the real-estate data.\n",
    "\n",
    "Note that this assignment requires you to create a visualisation by using hvPlot and GeoViews. Additionally, you need to read the `sfo_neighborhoods_census_data.csv` file from the `Resources` folder into the notebook and create the DataFrame that you’ll use in the analysis.\n",
    "\n",
    "The main task in this Challenge is to visualise and analyse the real-estate data in your Jupyter notebook. Use the `san_francisco_housing.ipynb` notebook to complete the following tasks:\n",
    "\n",
    "* Calculate and plot the housing units per year.\n",
    "\n",
    "* Calculate and plot the average prices per square foot.\n",
    "\n",
    "* Compare the average prices by neighbourhood.\n",
    "\n",
    "* Build an interactive neighbourhood map.\n",
    "\n",
    "* Compose your data story.\n",
    "\n",
    "#### Calculate and Plot the Housing Units per Year\n",
    "\n",
    "For this part of the assignment, use numerical and visual aggregation to calculate the number of housing units per year, and then visualise the results as a bar chart. To do so, complete the following steps:\n",
    "\n",
    "1. Use the `groupby` function to group the data by year. Aggregate the results by the `mean` of the groups.\n",
    "\n",
    "2. Use the `hvplot` function to plot the `housing_units_by_year` DataFrame as a bar chart. Make the x-axis represent the `year` and the y-axis represent the `housing_units`.\n",
    "\n",
    "3. Style and format the line plot to ensure a professionally styled visualisation.\n",
    "\n",
    "4. Note that your resulting plot should appear similar to the following image:\n",
    "\n",
    "    ![A screenshot depicts an example of the resulting bar chart.](Images/6-4-zoomed-housing-units-by-year.png)\n",
    "\n",
    "5. Answer the following question:\n",
    "\n",
    "    * What’s the overall trend in housing units over the period that you’re analysing?\n",
    "\n",
    "#### Calculate and Plot the Average Sale Prices per Square Foot\n",
    "\n",
    "For this part of the assignment, use numerical and visual aggregation to calculate the average prices per square foot, and then visualise the results as a bar chart. To do so, complete the following steps:\n",
    "\n",
    "1. Group the data by year, and then average the results. What’s the lowest gross rent that’s reported for the years that the DataFrame includes?\n",
    "\n",
    "2. Create a new DataFrame named `prices_square_foot_by_year` by filtering out the “housing_units” column. The new DataFrame should include the averages per year for only the sale price per square foot and the gross rent.\n",
    "\n",
    "3. Use hvPlot to plot the `prices_square_foot_by_year` DataFrame as a line plot.\n",
    "\n",
    "    > **Hint** This single plot will include lines for both `sale_price_sqr_foot` and `gross_rent`.\n",
    "\n",
    "4. Style and format the line plot to ensure a professionally styled visualisation.\n",
    "\n",
    "5. Note that your resulting plot should appear similar to the following image:\n",
    "\n",
    "    ![A screenshot depicts an example of the resulting plot.](Images/6-4-avg-sale-px-sq-foot-gross-rent.png)\n",
    "\n",
    "6. Use both the `prices_square_foot_by_year` DataFrame and interactive plots to answer the following questions:\n",
    "\n",
    "    * Did any year experience a drop in the average sale price per square foot compared to the previous year?\n",
    "\n",
    "    * If so, did the gross rent increase or decrease during that year?\n",
    "\n",
    "#### Compare the Average Sale Prices by Neighbourhood\n",
    "\n",
    "For this part of the assignment, use interactive visualisations and widgets to explore the average sale price per square foot by neighbourhood. To do so, complete the following steps:\n",
    "\n",
    "1. Create a new DataFrame that groups the original DataFrame by year and neighbourhood. Aggregate the results by the `mean` of the groups.\n",
    "\n",
    "2. Filter out the “housing_units” column to create a DataFrame that includes only the `sale_price_sqr_foot` and `gross_rent` averages per year.\n",
    "\n",
    "3. Create an interactive line plot with hvPlot that visualises both `sale_price_sqr_foot` and `gross_rent`. Set the x-axis parameter to the year (`x=\"year\"`). Use the `groupby` parameter to create an interactive widget for `neighbourhood`.\n",
    "\n",
    "4. Style and format the line plot to ensure a professionally styled visualisation.\n",
    "\n",
    "5. Note that your resulting plot should appear similar to the following image:\n",
    "\n",
    "    ![A screenshot depicts an example of the resulting plot.](Images/6-4-pricing-info-by-neighborhood.png)\n",
    "\n",
    "6. Use the interactive visualisation to answer the following question:\n",
    "\n",
    "    * For the Anza Vista neighbourhood, is the average sale price per square foot for 2016 more or less than the price that’s listed for 2012?\n",
    "\n",
    "#### Build an Interactive Neighbourhood Map\n",
    "\n",
    "For this part of the assignment, explore the geospatial relationships in the data by using interactive visualisations with hvPlot and GeoViews. To build your map, use the `sfo_data_df` DataFrame (created during the initial import), which includes the neighbourhood location data with the average prices. To do all this, complete the following steps:\n",
    "\n",
    "1. Read the `neighbourhood_coordinates.csv` file from the `Resources` folder into the notebook, and create a DataFrame named `neighbourhood_locations_df`. Be sure to set the `index_col` of the DataFrame as “Neighbourhood”.\n",
    "\n",
    "2. Using the original `sfo_data_df` Dataframe, create a DataFrame named `all_neighbourhood_info_df` that groups the data by neighbourhood. Aggregate the results by the `mean` of the group.\n",
    "\n",
    "3. Review the two code cells that concatenate the `neighbourhood_locations_df` DataFrame with the `all_neighbourhood_info_df` DataFrame. Note that the first cell uses the [Pandas concat function](https://pandas.pydata.org/pandas-docs/stable/reference/api/pandas.concat.html) to create a DataFrame named `all_neighbourhoods_df`. The second cell cleans the data and sets the “Neighbourhood” column. Be sure to run these cells to create the `all_neighbourhoods_df` DataFrame, which you’ll need to create the geospatial visualisation.\n",
    "\n",
    "4. Using hvPlot with GeoViews enabled, create a `points` plot for the `all_neighbourhoods_df` DataFrame. Be sure to do the following:\n",
    "\n",
    "    * Set the `size` parameter to “sale_price_sqr_foot”.\n",
    "\n",
    "    * Set the `color` parameter to “gross_rent”.\n",
    "\n",
    "    * Set the `frame_width` parameter to 700.\n",
    "\n",
    "    * Set the `frame_height` parameter to 500.\n",
    "\n",
    "    * Include a descriptive title.\n",
    "\n",
    "    Note that your resulting plot should appear similar to the following image:\n",
    "\n",
    "    ![A screenshot depicts an example of a scatter plot created with hvPlot and GeoViews.](Images/6-4-geoviews-plot.png)\n",
    "\n",
    "5. Use the interactive map to answer the following question:\n",
    "\n",
    "    * Which neighbourhood has the highest gross rent, and which has the highest sale price per square foot?\n",
    "\n",
    "#### Compose Your Data Story\n",
    "\n",
    "Based on the visualisations that you created, answer the following questions:\n",
    "\n",
    "* How does the trend in rental income growth compare to the trend in sales prices? Does this same trend hold true for all the neighbourhoods across San Francisco?\n",
    "\n",
    "* What insights can you share with your company about the potential one-click, buy-and-rent strategy that they're pursuing? Do neighbourhoods exist that you would suggest for investment, and why?"
   ]
  },
  {
   "cell_type": "code",
   "execution_count": 73,
   "metadata": {},
   "outputs": [],
   "source": [
    "# Import the required libraries and dependencies\n",
    "import pandas as pd\n",
    "import hvplot.pandas\n",
    "from pathlib import Path"
   ]
  },
  {
   "cell_type": "code",
   "execution_count": null,
   "metadata": {},
   "outputs": [],
   "source": [
    "## Import the data "
   ]
  },
  {
   "cell_type": "code",
   "execution_count": 32,
   "metadata": {},
   "outputs": [
    {
     "name": "stdout",
     "output_type": "stream",
     "text": [
      "   year     neighbourhood  sale_price_sqr_foot  housing_units  gross_rent\n",
      "0  2010      Alamo Square           291.182945         372560        1239\n",
      "1  2010        Anza Vista           267.932583         372560        1239\n",
      "2  2010           Bayview           170.098665         372560        1239\n",
      "3  2010  Buena Vista Park           347.394919         372560        1239\n",
      "4  2010  Central Richmond           319.027623         372560        1239\n",
      "     year           neighbourhood  sale_price_sqr_foot  housing_units  \\\n",
      "392  2016          Telegraph Hill           903.049771         384242   \n",
      "393  2016              Twin Peaks           970.085470         384242   \n",
      "394  2016  Van Ness/ Civic Center           552.602567         384242   \n",
      "395  2016       Visitacion Valley           328.319007         384242   \n",
      "396  2016           Westwood Park           631.195426         384242   \n",
      "\n",
      "     gross_rent  \n",
      "392        4390  \n",
      "393        4390  \n",
      "394        4390  \n",
      "395        4390  \n",
      "396        4390  \n"
     ]
    }
   ],
   "source": [
    "# Using the read_csv function and Path module, create a DataFrame \n",
    "# by importing the sfo_neighbourhoods_census_data.csv file from the Resources folder\n",
    "sfohood_data_df = pd.read_csv(Path('./Resources/sfo_neighbourhoods_census_data.csv'))\n",
    "\n",
    "\n",
    "# Review the first and last five rows of the DataFrame\n",
    "print(sfohood_data_df.head())\n",
    "print(sfohood_data_df.tail())"
   ]
  },
  {
   "cell_type": "markdown",
   "metadata": {},
   "source": [
    "---"
   ]
  },
  {
   "cell_type": "markdown",
   "metadata": {},
   "source": [
    "## Calculate and Plot the Housing Units per Year\n",
    "\n",
    "For this part of the assignment, use numerical and visual aggregation to calculate the number of housing units per year, and then visualise the results as a bar chart. To do so, complete the following steps:\n",
    "\n",
    "1. Use the `groupby` function to group the data by year. Aggregate the results by the `mean` of the groups.\n",
    "\n",
    "2. Use the `hvplot` function to plot the `housing_units_by_year` DataFrame as a bar chart. Make the x-axis represent the `year` and the y-axis represent the `housing_units`.\n",
    "\n",
    "3. Style and format the line plot to ensure a professionally styled visualisation.\n",
    "\n",
    "4. Note that your resulting plot should appear similar to the following image:\n",
    "\n",
    "    ![A screenshot depicts an example of the resulting bar chart.](Images/6-4-zoomed-housing-units-by-year.png)\n",
    "\n",
    "5. Answer the following question:\n",
    "\n",
    "    * What’s the overall trend in housing units over the period that you’re analysing?"
   ]
  },
  {
   "cell_type": "markdown",
   "metadata": {},
   "source": [
    "### Step 1: Use the `groupby` function to group the data by year. Aggregate the results by the `mean` of the groups."
   ]
  },
  {
   "cell_type": "code",
   "execution_count": 34,
   "metadata": {},
   "outputs": [
    {
     "name": "stdout",
     "output_type": "stream",
     "text": [
      "      sale_price_sqr_foot  housing_units  gross_rent\n",
      "year                                                \n",
      "2010           369.344353       372560.0      1239.0\n",
      "2011           341.903429       374507.0      1530.0\n",
      "2012           399.389968       376454.0      2324.0\n",
      "2013           483.600304       378401.0      2971.0\n",
      "2014           556.277273       380348.0      3528.0\n",
      "2015           632.540352       382295.0      3739.0\n",
      "2016           697.643709       384242.0      4390.0\n"
     ]
    }
   ],
   "source": [
    "# Create a numerical aggregation that groups the data by the year and then averages the results.\n",
    "housing_units_by_year = sfohood_data_df.groupby('year').mean()\n",
    "\n",
    "\n",
    "# Review the DataFrame\n",
    "print(housing_units_by_year)"
   ]
  },
  {
   "cell_type": "markdown",
   "metadata": {},
   "source": [
    "### Step 2: Use the `hvplot` function to plot the `housing_units_by_year` DataFrame as a bar chart. Make the x-axis represent the `year` and the y-axis represent the `housing_units`.\n",
    "\n",
    "### Step 3: Style and format the line plot to ensure a professionally styled visualisation."
   ]
  },
  {
   "cell_type": "code",
   "execution_count": 38,
   "metadata": {},
   "outputs": [
    {
     "data": {},
     "metadata": {},
     "output_type": "display_data"
    },
    {
     "data": {
      "application/vnd.holoviews_exec.v0+json": "",
      "text/html": [
       "<div id='1758'>\n",
       "  <div class=\"bk-root\" id=\"7992e60c-347c-4439-a4a0-c7193776a57f\" data-root-id=\"1758\"></div>\n",
       "</div>\n",
       "<script type=\"application/javascript\">(function(root) {\n",
       "  function embed_document(root) {\n",
       "    var docs_json = {\"f3208ebc-2f4c-4c40-97c3-58225dad4a76\":{\"defs\":[{\"extends\":null,\"module\":null,\"name\":\"ReactiveHTML1\",\"overrides\":[],\"properties\":[]},{\"extends\":null,\"module\":null,\"name\":\"FlexBox1\",\"overrides\":[],\"properties\":[{\"default\":\"flex-start\",\"kind\":null,\"name\":\"align_content\"},{\"default\":\"flex-start\",\"kind\":null,\"name\":\"align_items\"},{\"default\":\"row\",\"kind\":null,\"name\":\"flex_direction\"},{\"default\":\"wrap\",\"kind\":null,\"name\":\"flex_wrap\"},{\"default\":\"flex-start\",\"kind\":null,\"name\":\"justify_content\"}]},{\"extends\":null,\"module\":null,\"name\":\"GridStack1\",\"overrides\":[],\"properties\":[{\"default\":\"warn\",\"kind\":null,\"name\":\"mode\"},{\"default\":null,\"kind\":null,\"name\":\"ncols\"},{\"default\":null,\"kind\":null,\"name\":\"nrows\"},{\"default\":true,\"kind\":null,\"name\":\"allow_resize\"},{\"default\":true,\"kind\":null,\"name\":\"allow_drag\"},{\"default\":[],\"kind\":null,\"name\":\"state\"}]},{\"extends\":null,\"module\":null,\"name\":\"click1\",\"overrides\":[],\"properties\":[{\"default\":\"\",\"kind\":null,\"name\":\"terminal_output\"},{\"default\":\"\",\"kind\":null,\"name\":\"debug_name\"},{\"default\":0,\"kind\":null,\"name\":\"clears\"}]},{\"extends\":null,\"module\":null,\"name\":\"NotificationAreaBase1\",\"overrides\":[],\"properties\":[{\"default\":\"bottom-right\",\"kind\":null,\"name\":\"position\"},{\"default\":0,\"kind\":null,\"name\":\"_clear\"}]},{\"extends\":null,\"module\":null,\"name\":\"NotificationArea1\",\"overrides\":[],\"properties\":[{\"default\":[],\"kind\":null,\"name\":\"notifications\"},{\"default\":\"bottom-right\",\"kind\":null,\"name\":\"position\"},{\"default\":0,\"kind\":null,\"name\":\"_clear\"},{\"default\":[{\"background\":\"#ffc107\",\"icon\":{\"className\":\"fas fa-exclamation-triangle\",\"color\":\"white\",\"tagName\":\"i\"},\"type\":\"warning\"},{\"background\":\"#007bff\",\"icon\":{\"className\":\"fas fa-info-circle\",\"color\":\"white\",\"tagName\":\"i\"},\"type\":\"info\"}],\"kind\":null,\"name\":\"types\"}]},{\"extends\":null,\"module\":null,\"name\":\"Notification\",\"overrides\":[],\"properties\":[{\"default\":null,\"kind\":null,\"name\":\"background\"},{\"default\":3000,\"kind\":null,\"name\":\"duration\"},{\"default\":null,\"kind\":null,\"name\":\"icon\"},{\"default\":\"\",\"kind\":null,\"name\":\"message\"},{\"default\":null,\"kind\":null,\"name\":\"notification_type\"},{\"default\":false,\"kind\":null,\"name\":\"_destroyed\"}]},{\"extends\":null,\"module\":null,\"name\":\"TemplateActions1\",\"overrides\":[],\"properties\":[{\"default\":0,\"kind\":null,\"name\":\"open_modal\"},{\"default\":0,\"kind\":null,\"name\":\"close_modal\"}]},{\"extends\":null,\"module\":null,\"name\":\"MaterialTemplateActions1\",\"overrides\":[],\"properties\":[{\"default\":0,\"kind\":null,\"name\":\"open_modal\"},{\"default\":0,\"kind\":null,\"name\":\"close_modal\"}]}],\"roots\":{\"references\":[{\"attributes\":{\"margin\":[5,5,5,5],\"name\":\"HSpacer01768\",\"sizing_mode\":\"stretch_width\"},\"id\":\"1819\",\"type\":\"Spacer\"},{\"attributes\":{},\"id\":\"1776\",\"type\":\"BasicTicker\"},{\"attributes\":{\"axis\":{\"id\":\"1775\"},\"coordinates\":null,\"dimension\":1,\"grid_line_color\":null,\"group\":null,\"ticker\":null},\"id\":\"1778\",\"type\":\"Grid\"},{\"attributes\":{},\"id\":\"1768\",\"type\":\"CategoricalScale\"},{\"attributes\":{\"format\":\"%.0f\"},\"id\":\"1801\",\"type\":\"PrintfTickFormatter\"},{\"attributes\":{\"coordinates\":null,\"data_source\":{\"id\":\"1792\"},\"glyph\":{\"id\":\"1795\"},\"group\":null,\"hover_glyph\":null,\"muted_glyph\":{\"id\":\"1797\"},\"nonselection_glyph\":{\"id\":\"1796\"},\"selection_glyph\":{\"id\":\"1800\"},\"view\":{\"id\":\"1799\"}},\"id\":\"1798\",\"type\":\"GlyphRenderer\"},{\"attributes\":{\"bottom\":{\"value\":0},\"fill_alpha\":{\"value\":1.0},\"fill_color\":{\"value\":\"blue\"},\"hatch_alpha\":{\"value\":1.0},\"hatch_color\":{\"value\":\"blue\"},\"hatch_scale\":{\"value\":12.0},\"hatch_weight\":{\"value\":1.0},\"line_alpha\":{\"value\":1.0},\"line_cap\":{\"value\":\"butt\"},\"line_color\":{\"value\":\"black\"},\"line_dash\":{\"value\":[]},\"line_dash_offset\":{\"value\":0},\"line_join\":{\"value\":\"bevel\"},\"line_width\":{\"value\":1},\"top\":{\"field\":\"housing_units\"},\"width\":{\"value\":0.8},\"x\":{\"field\":\"year\"}},\"id\":\"1800\",\"type\":\"VBar\"},{\"attributes\":{\"end\":423500.0,\"reset_end\":423500.0,\"reset_start\":346500.0,\"start\":346500.0,\"tags\":[[[\"housing_units\",\"housing_units\",null]]]},\"id\":\"1761\",\"type\":\"Range1d\"},{\"attributes\":{\"fill_alpha\":{\"value\":0.1},\"fill_color\":{\"value\":\"blue\"},\"hatch_alpha\":{\"value\":0.1},\"hatch_color\":{\"value\":\"blue\"},\"line_alpha\":{\"value\":0.1},\"top\":{\"field\":\"housing_units\"},\"width\":{\"value\":0.8},\"x\":{\"field\":\"year\"}},\"id\":\"1796\",\"type\":\"VBar\"},{\"attributes\":{\"fill_alpha\":{\"value\":0.2},\"fill_color\":{\"value\":\"blue\"},\"hatch_alpha\":{\"value\":0.2},\"hatch_color\":{\"value\":\"blue\"},\"line_alpha\":{\"value\":0.2},\"top\":{\"field\":\"housing_units\"},\"width\":{\"value\":0.8},\"x\":{\"field\":\"year\"}},\"id\":\"1797\",\"type\":\"VBar\"},{\"attributes\":{\"fill_color\":{\"value\":\"blue\"},\"hatch_color\":{\"value\":\"blue\"},\"top\":{\"field\":\"housing_units\"},\"width\":{\"value\":0.8},\"x\":{\"field\":\"year\"}},\"id\":\"1795\",\"type\":\"VBar\"},{\"attributes\":{},\"id\":\"1779\",\"type\":\"SaveTool\"},{\"attributes\":{},\"id\":\"1803\",\"type\":\"CategoricalTickFormatter\"},{\"attributes\":{\"margin\":[5,5,5,5],\"name\":\"HSpacer01767\",\"sizing_mode\":\"stretch_width\"},\"id\":\"1759\",\"type\":\"Spacer\"},{\"attributes\":{},\"id\":\"1780\",\"type\":\"PanTool\"},{\"attributes\":{},\"id\":\"1793\",\"type\":\"Selection\"},{\"attributes\":{},\"id\":\"1781\",\"type\":\"WheelZoomTool\"},{\"attributes\":{},\"id\":\"1807\",\"type\":\"AllLabels\"},{\"attributes\":{\"children\":[{\"id\":\"1759\"},{\"id\":\"1763\"},{\"id\":\"1819\"}],\"margin\":[0,0,0,0],\"name\":\"Row01763\",\"tags\":[\"embedded\"]},\"id\":\"1758\",\"type\":\"Row\"},{\"attributes\":{\"tools\":[{\"id\":\"1762\"},{\"id\":\"1779\"},{\"id\":\"1780\"},{\"id\":\"1781\"},{\"id\":\"1782\"},{\"id\":\"1783\"}]},\"id\":\"1785\",\"type\":\"Toolbar\"},{\"attributes\":{},\"id\":\"1804\",\"type\":\"AllLabels\"},{\"attributes\":{\"below\":[{\"id\":\"1772\"}],\"center\":[{\"id\":\"1774\"},{\"id\":\"1778\"}],\"height\":500,\"left\":[{\"id\":\"1775\"}],\"margin\":[5,5,5,5],\"min_border_bottom\":10,\"min_border_left\":10,\"min_border_right\":10,\"min_border_top\":10,\"renderers\":[{\"id\":\"1798\"}],\"sizing_mode\":\"fixed\",\"title\":{\"id\":\"1764\"},\"toolbar\":{\"id\":\"1785\"},\"width\":900,\"x_range\":{\"id\":\"1760\"},\"x_scale\":{\"id\":\"1768\"},\"y_range\":{\"id\":\"1761\"},\"y_scale\":{\"id\":\"1770\"}},\"id\":\"1763\",\"subtype\":\"Figure\",\"type\":\"Plot\"},{\"attributes\":{\"overlay\":{\"id\":\"1784\"}},\"id\":\"1782\",\"type\":\"BoxZoomTool\"},{\"attributes\":{},\"id\":\"1816\",\"type\":\"UnionRenderers\"},{\"attributes\":{\"source\":{\"id\":\"1792\"}},\"id\":\"1799\",\"type\":\"CDSView\"},{\"attributes\":{},\"id\":\"1770\",\"type\":\"LinearScale\"},{\"attributes\":{\"coordinates\":null,\"group\":null,\"text\":\"SFO Housing Units by Year\",\"text_color\":\"black\",\"text_font_size\":\"12pt\"},\"id\":\"1764\",\"type\":\"Title\"},{\"attributes\":{\"data\":{\"housing_units\":{\"__ndarray__\":\"AAAAAEC9FkEAAAAArNsWQQAAAAAY+hZBAAAAAIQYF0EAAAAA8DYXQQAAAABcVRdBAAAAAMhzF0E=\",\"dtype\":\"float64\",\"order\":\"little\",\"shape\":[7]},\"year\":[\"2010\",\"2011\",\"2012\",\"2013\",\"2014\",\"2015\",\"2016\"]},\"selected\":{\"id\":\"1793\"},\"selection_policy\":{\"id\":\"1816\"}},\"id\":\"1792\",\"type\":\"ColumnDataSource\"},{\"attributes\":{},\"id\":\"1783\",\"type\":\"ResetTool\"},{\"attributes\":{\"bottom_units\":\"screen\",\"coordinates\":null,\"fill_alpha\":0.5,\"fill_color\":\"lightgrey\",\"group\":null,\"left_units\":\"screen\",\"level\":\"overlay\",\"line_alpha\":1.0,\"line_color\":\"black\",\"line_dash\":[4,4],\"line_width\":2,\"right_units\":\"screen\",\"syncable\":false,\"top_units\":\"screen\"},\"id\":\"1784\",\"type\":\"BoxAnnotation\"},{\"attributes\":{\"axis_label\":\"housing_units\",\"coordinates\":null,\"formatter\":{\"id\":\"1801\"},\"group\":null,\"major_label_policy\":{\"id\":\"1807\"},\"ticker\":{\"id\":\"1776\"}},\"id\":\"1775\",\"type\":\"LinearAxis\"},{\"attributes\":{\"factors\":[\"2010\",\"2011\",\"2012\",\"2013\",\"2014\",\"2015\",\"2016\"],\"tags\":[[[\"year\",\"year\",null]]]},\"id\":\"1760\",\"type\":\"FactorRange\"},{\"attributes\":{\"axis_label\":\"year\",\"coordinates\":null,\"formatter\":{\"id\":\"1803\"},\"group\":null,\"major_label_policy\":{\"id\":\"1804\"},\"ticker\":{\"id\":\"1773\"}},\"id\":\"1772\",\"type\":\"CategoricalAxis\"},{\"attributes\":{\"callback\":null,\"renderers\":[{\"id\":\"1798\"}],\"tags\":[\"hv_created\"],\"tooltips\":[[\"year\",\"@{year}\"],[\"housing_units\",\"@{housing_units}\"]]},\"id\":\"1762\",\"type\":\"HoverTool\"},{\"attributes\":{},\"id\":\"1773\",\"type\":\"CategoricalTicker\"},{\"attributes\":{\"axis\":{\"id\":\"1772\"},\"coordinates\":null,\"grid_line_color\":null,\"group\":null,\"ticker\":null},\"id\":\"1774\",\"type\":\"Grid\"}],\"root_ids\":[\"1758\"]},\"title\":\"Bokeh Application\",\"version\":\"2.4.3\"}};\n",
       "    var render_items = [{\"docid\":\"f3208ebc-2f4c-4c40-97c3-58225dad4a76\",\"root_ids\":[\"1758\"],\"roots\":{\"1758\":\"7992e60c-347c-4439-a4a0-c7193776a57f\"}}];\n",
       "    root.Bokeh.embed.embed_items_notebook(docs_json, render_items);\n",
       "  }\n",
       "  if (root.Bokeh !== undefined && root.Bokeh.Panel !== undefined) {\n",
       "    embed_document(root);\n",
       "  } else {\n",
       "    var attempts = 0;\n",
       "    var timer = setInterval(function(root) {\n",
       "      if (root.Bokeh !== undefined && root.Bokeh.Panel !== undefined) {\n",
       "        clearInterval(timer);\n",
       "        embed_document(root);\n",
       "      } else if (document.readyState == \"complete\") {\n",
       "        attempts++;\n",
       "        if (attempts > 200) {\n",
       "          clearInterval(timer);\n",
       "          console.log(\"Bokeh: ERROR: Unable to run BokehJS code because BokehJS library is missing\");\n",
       "        }\n",
       "      }\n",
       "    }, 25, root)\n",
       "  }\n",
       "})(window);</script>"
      ],
      "text/plain": [
       ":Bars   [year]   (housing_units)"
      ]
     },
     "execution_count": 38,
     "metadata": {
      "application/vnd.holoviews_exec.v0+json": {
       "id": "1758"
      }
     },
     "output_type": "execute_result"
    }
   ],
   "source": [
    "# Create a visual aggregation explore the housing units by year\n",
    "housing_units_by_year.hvplot.bar(y='housing_units', x = 'year', \n",
    "                                 ylabel = 'housing_units', \n",
    "                                 xlabel = 'year',\n",
    "                                 ylim=(385000.0, 385000),  \n",
    "                                 width = 900,height = 500,\n",
    "                                 color = 'blue',label = 'SFO Housing Units by Year').opts(yformatter='%.0f')"
   ]
  },
  {
   "cell_type": "markdown",
   "metadata": {},
   "source": [
    "### Step 5: Answer the following question:"
   ]
  },
  {
   "cell_type": "code",
   "execution_count": null,
   "metadata": {},
   "outputs": [],
   "source": [
    "**Question:** What is the overall trend in housing_units over the period being analysed?\n",
    "**Answer:** "
   ]
  },
  {
   "cell_type": "code",
   "execution_count": 40,
   "metadata": {},
   "outputs": [
    {
     "name": "stdout",
     "output_type": "stream",
     "text": [
      "By analysing this data we can see that there is an increase every year\n"
     ]
    }
   ],
   "source": [
    "print('By analysing this data we can see that there is an increase every year')"
   ]
  },
  {
   "cell_type": "markdown",
   "metadata": {},
   "source": [
    "## Calculate and Plot the Average Sale Prices per Square Foot\n",
    "\n",
    "For this part of the assignment, use numerical and visual aggregation to calculate the average prices per square foot, and then visualise the results as a bar chart. To do so, complete the following steps:\n",
    "\n",
    "1. Group the data by year, and then average the results. What’s the lowest gross rent that’s reported for the years that the DataFrame includes?\n",
    "\n",
    "2. Create a new DataFrame named `prices_square_foot_by_year` by filtering out the “housing_units” column. The new DataFrame should include the averages per year for only the sale price per square foot and the gross rent.\n",
    "\n",
    "3. Use hvPlot to plot the `prices_square_foot_by_year` DataFrame as a line plot.\n",
    "\n",
    "    > **Hint** This single plot will include lines for both `sale_price_sqr_foot` and `gross_rent`.\n",
    "\n",
    "4. Style and format the line plot to ensure a professionally styled visualisation.\n",
    "\n",
    "5. Note that your resulting plot should appear similar to the following image:\n",
    "\n",
    "    ![A screenshot depicts an example of the resulting plot.](Images/6-4-avg-sale-px-sq-foot-gross-rent.png)\n",
    "\n",
    "6. Use both the `prices_square_foot_by_year` DataFrame and interactive plots to answer the following questions:\n",
    "\n",
    "    * Did any year experience a drop in the average sale price per square foot compared to the previous year?\n",
    "\n",
    "    * If so, did the gross rent increase or decrease during that year?"
   ]
  },
  {
   "cell_type": "markdown",
   "metadata": {},
   "source": [
    "### Step 1: Group the data by year, and then average the results."
   ]
  },
  {
   "cell_type": "code",
   "execution_count": 50,
   "metadata": {},
   "outputs": [
    {
     "name": "stdout",
     "output_type": "stream",
     "text": [
      "      sale_price_sqr_foot  housing_units  gross_rent\n",
      "year                                                \n",
      "2010           369.344353       372560.0      1239.0\n",
      "2011           341.903429       374507.0      1530.0\n",
      "2012           399.389968       376454.0      2324.0\n",
      "2013           483.600304       378401.0      2971.0\n",
      "2014           556.277273       380348.0      3528.0\n",
      "2015           632.540352       382295.0      3739.0\n",
      "2016           697.643709       384242.0      4390.0\n"
     ]
    }
   ],
   "source": [
    "# Create a numerical aggregation by grouping the data by year and averaging the results\n",
    "prices_square_foot_by_year = sfohood_data_df.groupby('year').mean()\n",
    "\n",
    "# Review the resulting DataFrame\n",
    "print(prices_square_foot_by_year)"
   ]
  },
  {
   "cell_type": "code",
   "execution_count": 26,
   "metadata": {},
   "outputs": [],
   "source": [
    "#Question:** What is the lowest gross rent reported for the years included in the DataFrame?\n",
    "#Answer:** # YOUR ANSWER HERE"
   ]
  },
  {
   "cell_type": "code",
   "execution_count": 51,
   "metadata": {},
   "outputs": [
    {
     "name": "stdout",
     "output_type": "stream",
     "text": [
      "The lowest gross rent reported for the years included is: 1239.0 in year 2010.\n"
     ]
    }
   ],
   "source": [
    "# finding the lowest gross rent by using the min method;\n",
    "lowest_rent = prices_square_foot_by_year['gross_rent'].min()\n",
    "lowest_rent_index = prices_square_foot_by_year.gross_rent[prices_square_foot_by_year.gross_rent == lowest_rent].index.tolist()\n",
    "print(f'The lowest gross rent reported for the years included is: {lowest_rent} in year {lowest_rent_index[0]}.')"
   ]
  },
  {
   "cell_type": "markdown",
   "metadata": {},
   "source": [
    "### Step 2: Create a new DataFrame named `prices_square_foot_by_year` by filtering out the “housing_units” column. The new DataFrame should include the averages per year for only the sale price per square foot and the gross rent."
   ]
  },
  {
   "cell_type": "code",
   "execution_count": 56,
   "metadata": {},
   "outputs": [
    {
     "data": {
      "text/html": [
       "<div>\n",
       "<style scoped>\n",
       "    .dataframe tbody tr th:only-of-type {\n",
       "        vertical-align: middle;\n",
       "    }\n",
       "\n",
       "    .dataframe tbody tr th {\n",
       "        vertical-align: top;\n",
       "    }\n",
       "\n",
       "    .dataframe thead th {\n",
       "        text-align: right;\n",
       "    }\n",
       "</style>\n",
       "<table border=\"1\" class=\"dataframe\">\n",
       "  <thead>\n",
       "    <tr style=\"text-align: right;\">\n",
       "      <th></th>\n",
       "      <th>sale_price_sqr_foot</th>\n",
       "      <th>gross_rent</th>\n",
       "    </tr>\n",
       "    <tr>\n",
       "      <th>year</th>\n",
       "      <th></th>\n",
       "      <th></th>\n",
       "    </tr>\n",
       "  </thead>\n",
       "  <tbody>\n",
       "    <tr>\n",
       "      <th>2010</th>\n",
       "      <td>369.344353</td>\n",
       "      <td>1239.0</td>\n",
       "    </tr>\n",
       "    <tr>\n",
       "      <th>2011</th>\n",
       "      <td>341.903429</td>\n",
       "      <td>1530.0</td>\n",
       "    </tr>\n",
       "    <tr>\n",
       "      <th>2012</th>\n",
       "      <td>399.389968</td>\n",
       "      <td>2324.0</td>\n",
       "    </tr>\n",
       "    <tr>\n",
       "      <th>2013</th>\n",
       "      <td>483.600304</td>\n",
       "      <td>2971.0</td>\n",
       "    </tr>\n",
       "    <tr>\n",
       "      <th>2014</th>\n",
       "      <td>556.277273</td>\n",
       "      <td>3528.0</td>\n",
       "    </tr>\n",
       "    <tr>\n",
       "      <th>2015</th>\n",
       "      <td>632.540352</td>\n",
       "      <td>3739.0</td>\n",
       "    </tr>\n",
       "    <tr>\n",
       "      <th>2016</th>\n",
       "      <td>697.643709</td>\n",
       "      <td>4390.0</td>\n",
       "    </tr>\n",
       "  </tbody>\n",
       "</table>\n",
       "</div>"
      ],
      "text/plain": [
       "      sale_price_sqr_foot  gross_rent\n",
       "year                                 \n",
       "2010           369.344353      1239.0\n",
       "2011           341.903429      1530.0\n",
       "2012           399.389968      2324.0\n",
       "2013           483.600304      2971.0\n",
       "2014           556.277273      3528.0\n",
       "2015           632.540352      3739.0\n",
       "2016           697.643709      4390.0"
      ]
     },
     "execution_count": 56,
     "metadata": {},
     "output_type": "execute_result"
    }
   ],
   "source": [
    "# Filter out the housing_units column, creating a new DataFrame \n",
    "# Keep only sale_price_sqr_foot and gross_rent averages per year\n",
    "\n",
    "prices_square_foot_by_year.drop(columns = 'housing_units')\n"
   ]
  },
  {
   "cell_type": "markdown",
   "metadata": {},
   "source": [
    "### Step 3: Use hvPlot to plot the `prices_square_foot_by_year` DataFrame as a line plot.\n",
    "\n",
    "> **Hint** This single plot will include lines for both `sale_price_sqr_foot` and `gross_rent`\n",
    "\n",
    "### Step 4: Style and format the line plot to ensure a professionally styled visualisation.\n"
   ]
  },
  {
   "cell_type": "code",
   "execution_count": 74,
   "metadata": {},
   "outputs": [
    {
     "data": {},
     "metadata": {},
     "output_type": "display_data"
    },
    {
     "data": {
      "application/vnd.holoviews_exec.v0+json": "",
      "text/html": [
       "<div id='2025'>\n",
       "  <div class=\"bk-root\" id=\"3cb4999d-9a45-4c33-982e-834f4b6c3935\" data-root-id=\"2025\"></div>\n",
       "</div>\n",
       "<script type=\"application/javascript\">(function(root) {\n",
       "  function embed_document(root) {\n",
       "    var docs_json = {\"6263fd6f-6998-4800-9bc7-d79b6246a85f\":{\"defs\":[{\"extends\":null,\"module\":null,\"name\":\"ReactiveHTML1\",\"overrides\":[],\"properties\":[]},{\"extends\":null,\"module\":null,\"name\":\"FlexBox1\",\"overrides\":[],\"properties\":[{\"default\":\"flex-start\",\"kind\":null,\"name\":\"align_content\"},{\"default\":\"flex-start\",\"kind\":null,\"name\":\"align_items\"},{\"default\":\"row\",\"kind\":null,\"name\":\"flex_direction\"},{\"default\":\"wrap\",\"kind\":null,\"name\":\"flex_wrap\"},{\"default\":\"flex-start\",\"kind\":null,\"name\":\"justify_content\"}]},{\"extends\":null,\"module\":null,\"name\":\"GridStack1\",\"overrides\":[],\"properties\":[{\"default\":\"warn\",\"kind\":null,\"name\":\"mode\"},{\"default\":null,\"kind\":null,\"name\":\"ncols\"},{\"default\":null,\"kind\":null,\"name\":\"nrows\"},{\"default\":true,\"kind\":null,\"name\":\"allow_resize\"},{\"default\":true,\"kind\":null,\"name\":\"allow_drag\"},{\"default\":[],\"kind\":null,\"name\":\"state\"}]},{\"extends\":null,\"module\":null,\"name\":\"click1\",\"overrides\":[],\"properties\":[{\"default\":\"\",\"kind\":null,\"name\":\"terminal_output\"},{\"default\":\"\",\"kind\":null,\"name\":\"debug_name\"},{\"default\":0,\"kind\":null,\"name\":\"clears\"}]},{\"extends\":null,\"module\":null,\"name\":\"NotificationAreaBase1\",\"overrides\":[],\"properties\":[{\"default\":\"bottom-right\",\"kind\":null,\"name\":\"position\"},{\"default\":0,\"kind\":null,\"name\":\"_clear\"}]},{\"extends\":null,\"module\":null,\"name\":\"NotificationArea1\",\"overrides\":[],\"properties\":[{\"default\":[],\"kind\":null,\"name\":\"notifications\"},{\"default\":\"bottom-right\",\"kind\":null,\"name\":\"position\"},{\"default\":0,\"kind\":null,\"name\":\"_clear\"},{\"default\":[{\"background\":\"#ffc107\",\"icon\":{\"className\":\"fas fa-exclamation-triangle\",\"color\":\"white\",\"tagName\":\"i\"},\"type\":\"warning\"},{\"background\":\"#007bff\",\"icon\":{\"className\":\"fas fa-info-circle\",\"color\":\"white\",\"tagName\":\"i\"},\"type\":\"info\"}],\"kind\":null,\"name\":\"types\"}]},{\"extends\":null,\"module\":null,\"name\":\"Notification\",\"overrides\":[],\"properties\":[{\"default\":null,\"kind\":null,\"name\":\"background\"},{\"default\":3000,\"kind\":null,\"name\":\"duration\"},{\"default\":null,\"kind\":null,\"name\":\"icon\"},{\"default\":\"\",\"kind\":null,\"name\":\"message\"},{\"default\":null,\"kind\":null,\"name\":\"notification_type\"},{\"default\":false,\"kind\":null,\"name\":\"_destroyed\"}]},{\"extends\":null,\"module\":null,\"name\":\"TemplateActions1\",\"overrides\":[],\"properties\":[{\"default\":0,\"kind\":null,\"name\":\"open_modal\"},{\"default\":0,\"kind\":null,\"name\":\"close_modal\"}]},{\"extends\":null,\"module\":null,\"name\":\"MaterialTemplateActions1\",\"overrides\":[],\"properties\":[{\"default\":0,\"kind\":null,\"name\":\"open_modal\"},{\"default\":0,\"kind\":null,\"name\":\"close_modal\"}]}],\"roots\":{\"references\":[{\"attributes\":{\"end\":4500,\"reset_end\":4500,\"reset_start\":300,\"start\":300,\"tags\":[[[\"value\",\"value\",null]]]},\"id\":\"2028\",\"type\":\"Range1d\"},{\"attributes\":{\"line_alpha\":0.1,\"line_color\":\"#30a2da\",\"line_width\":2,\"x\":{\"field\":\"year\"},\"y\":{\"field\":\"value\"}},\"id\":\"2071\",\"type\":\"Line\"},{\"attributes\":{},\"id\":\"2063\",\"type\":\"AllLabels\"},{\"attributes\":{\"margin\":[5,5,5,5],\"name\":\"HSpacer02038\",\"sizing_mode\":\"stretch_width\"},\"id\":\"2026\",\"type\":\"Spacer\"},{\"attributes\":{\"axis\":{\"id\":\"2044\"},\"coordinates\":null,\"dimension\":1,\"grid_line_color\":null,\"group\":null,\"ticker\":null},\"id\":\"2047\",\"type\":\"Grid\"},{\"attributes\":{},\"id\":\"2105\",\"type\":\"UnionRenderers\"},{\"attributes\":{\"axis\":{\"id\":\"2040\"},\"coordinates\":null,\"grid_line_color\":null,\"group\":null,\"ticker\":null},\"id\":\"2043\",\"type\":\"Grid\"},{\"attributes\":{\"source\":{\"id\":\"2088\"}},\"id\":\"2095\",\"type\":\"CDSView\"},{\"attributes\":{\"callback\":null,\"renderers\":[{\"id\":\"2073\"},{\"id\":\"2094\"}],\"tags\":[\"hv_created\"],\"tooltips\":[[\"Variable\",\"@{Variable}\"],[\"year\",\"@{year}\"],[\"value\",\"@{value}\"]]},\"id\":\"2029\",\"type\":\"HoverTool\"},{\"attributes\":{\"line_color\":\"#fc4f30\",\"line_width\":2,\"x\":{\"field\":\"year\"},\"y\":{\"field\":\"value\"}},\"id\":\"2109\",\"type\":\"Line\"},{\"attributes\":{},\"id\":\"2045\",\"type\":\"BasicTicker\"},{\"attributes\":{\"axis_label\":\"gross_rent/sale_price_sqr_foot\",\"coordinates\":null,\"formatter\":{\"id\":\"2065\"},\"group\":null,\"major_label_policy\":{\"id\":\"2066\"},\"ticker\":{\"id\":\"2045\"}},\"id\":\"2044\",\"type\":\"LinearAxis\"},{\"attributes\":{\"click_policy\":\"mute\",\"coordinates\":null,\"group\":null,\"items\":[{\"id\":\"2086\"},{\"id\":\"2108\"}],\"location\":[0,0],\"orientation\":\"horizontal\",\"title\":\"Variable\"},\"id\":\"2085\",\"type\":\"Legend\"},{\"attributes\":{\"label\":{\"value\":\"gross_rent\"},\"renderers\":[{\"id\":\"2094\"}]},\"id\":\"2108\",\"type\":\"LegendItem\"},{\"attributes\":{\"above\":[{\"id\":\"2085\"}],\"below\":[{\"id\":\"2040\"}],\"center\":[{\"id\":\"2043\"},{\"id\":\"2047\"}],\"height\":200,\"left\":[{\"id\":\"2044\"}],\"margin\":[5,5,5,5],\"min_border_bottom\":10,\"min_border_left\":10,\"min_border_right\":10,\"min_border_top\":10,\"renderers\":[{\"id\":\"2073\"},{\"id\":\"2094\"}],\"sizing_mode\":\"fixed\",\"title\":{\"id\":\"2032\"},\"toolbar\":{\"id\":\"2054\"},\"width\":500,\"x_range\":{\"id\":\"2027\"},\"x_scale\":{\"id\":\"2036\"},\"y_range\":{\"id\":\"2028\"},\"y_scale\":{\"id\":\"2038\"}},\"id\":\"2031\",\"subtype\":\"Figure\",\"type\":\"Plot\"},{\"attributes\":{\"line_color\":\"#30a2da\",\"line_width\":2,\"x\":{\"field\":\"year\"},\"y\":{\"field\":\"value\"}},\"id\":\"2087\",\"type\":\"Line\"},{\"attributes\":{\"label\":{\"value\":\"sale_price_sqr_foot\"},\"renderers\":[{\"id\":\"2073\"}]},\"id\":\"2086\",\"type\":\"LegendItem\"},{\"attributes\":{},\"id\":\"2082\",\"type\":\"UnionRenderers\"},{\"attributes\":{\"bottom_units\":\"screen\",\"coordinates\":null,\"fill_alpha\":0.5,\"fill_color\":\"lightgrey\",\"group\":null,\"left_units\":\"screen\",\"level\":\"overlay\",\"line_alpha\":1.0,\"line_color\":\"black\",\"line_dash\":[4,4],\"line_width\":2,\"right_units\":\"screen\",\"syncable\":false,\"top_units\":\"screen\"},\"id\":\"2053\",\"type\":\"BoxAnnotation\"},{\"attributes\":{\"coordinates\":null,\"data_source\":{\"id\":\"2088\"},\"glyph\":{\"id\":\"2091\"},\"group\":null,\"hover_glyph\":null,\"muted_glyph\":{\"id\":\"2093\"},\"nonselection_glyph\":{\"id\":\"2092\"},\"selection_glyph\":{\"id\":\"2109\"},\"view\":{\"id\":\"2095\"}},\"id\":\"2094\",\"type\":\"GlyphRenderer\"},{\"attributes\":{},\"id\":\"2068\",\"type\":\"Selection\"},{\"attributes\":{\"line_color\":\"#30a2da\",\"line_width\":2,\"x\":{\"field\":\"year\"},\"y\":{\"field\":\"value\"}},\"id\":\"2070\",\"type\":\"Line\"},{\"attributes\":{},\"id\":\"2089\",\"type\":\"Selection\"},{\"attributes\":{\"children\":[{\"id\":\"2026\"},{\"id\":\"2031\"},{\"id\":\"2122\"}],\"margin\":[0,0,0,0],\"name\":\"Row02034\",\"tags\":[\"embedded\"]},\"id\":\"2025\",\"type\":\"Row\"},{\"attributes\":{},\"id\":\"2062\",\"type\":\"BasicTickFormatter\"},{\"attributes\":{\"line_alpha\":0.2,\"line_color\":\"#30a2da\",\"line_width\":2,\"x\":{\"field\":\"year\"},\"y\":{\"field\":\"value\"}},\"id\":\"2072\",\"type\":\"Line\"},{\"attributes\":{},\"id\":\"2048\",\"type\":\"SaveTool\"},{\"attributes\":{\"coordinates\":null,\"data_source\":{\"id\":\"2067\"},\"glyph\":{\"id\":\"2070\"},\"group\":null,\"hover_glyph\":null,\"muted_glyph\":{\"id\":\"2072\"},\"nonselection_glyph\":{\"id\":\"2071\"},\"selection_glyph\":{\"id\":\"2087\"},\"view\":{\"id\":\"2074\"}},\"id\":\"2073\",\"type\":\"GlyphRenderer\"},{\"attributes\":{},\"id\":\"2049\",\"type\":\"PanTool\"},{\"attributes\":{\"source\":{\"id\":\"2067\"}},\"id\":\"2074\",\"type\":\"CDSView\"},{\"attributes\":{},\"id\":\"2065\",\"type\":\"BasicTickFormatter\"},{\"attributes\":{},\"id\":\"2041\",\"type\":\"BasicTicker\"},{\"attributes\":{},\"id\":\"2050\",\"type\":\"WheelZoomTool\"},{\"attributes\":{\"tools\":[{\"id\":\"2029\"},{\"id\":\"2048\"},{\"id\":\"2049\"},{\"id\":\"2050\"},{\"id\":\"2051\"},{\"id\":\"2052\"}]},\"id\":\"2054\",\"type\":\"Toolbar\"},{\"attributes\":{},\"id\":\"2036\",\"type\":\"LinearScale\"},{\"attributes\":{\"overlay\":{\"id\":\"2053\"}},\"id\":\"2051\",\"type\":\"BoxZoomTool\"},{\"attributes\":{\"margin\":[5,5,5,5],\"name\":\"HSpacer02039\",\"sizing_mode\":\"stretch_width\"},\"id\":\"2122\",\"type\":\"Spacer\"},{\"attributes\":{\"coordinates\":null,\"group\":null,\"text\":\"sale_price_sqr_foot & average_gross_rent\",\"text_color\":\"black\",\"text_font_size\":\"12pt\"},\"id\":\"2032\",\"type\":\"Title\"},{\"attributes\":{},\"id\":\"2066\",\"type\":\"AllLabels\"},{\"attributes\":{\"data\":{\"Variable\":[\"gross_rent\",\"gross_rent\",\"gross_rent\",\"gross_rent\",\"gross_rent\",\"gross_rent\",\"gross_rent\"],\"value\":{\"__ndarray__\":\"AAAAAABck0AAAAAAAOiXQAAAAAAAKKJAAAAAAAA2p0AAAAAAAJCrQAAAAAAANq1AAAAAAAAmsUA=\",\"dtype\":\"float64\",\"order\":\"little\",\"shape\":[7]},\"year\":[2010,2011,2012,2013,2014,2015,2016]},\"selected\":{\"id\":\"2089\"},\"selection_policy\":{\"id\":\"2105\"}},\"id\":\"2088\",\"type\":\"ColumnDataSource\"},{\"attributes\":{},\"id\":\"2038\",\"type\":\"LinearScale\"},{\"attributes\":{\"line_color\":\"#fc4f30\",\"line_width\":2,\"x\":{\"field\":\"year\"},\"y\":{\"field\":\"value\"}},\"id\":\"2091\",\"type\":\"Line\"},{\"attributes\":{},\"id\":\"2052\",\"type\":\"ResetTool\"},{\"attributes\":{\"end\":2016.0,\"reset_end\":2016.0,\"reset_start\":2010.0,\"start\":2010.0,\"tags\":[[[\"year\",\"year\",null]]]},\"id\":\"2027\",\"type\":\"Range1d\"},{\"attributes\":{\"axis_label\":\"Year\",\"coordinates\":null,\"formatter\":{\"id\":\"2062\"},\"group\":null,\"major_label_policy\":{\"id\":\"2063\"},\"ticker\":{\"id\":\"2041\"}},\"id\":\"2040\",\"type\":\"LinearAxis\"},{\"attributes\":{\"line_alpha\":0.1,\"line_color\":\"#fc4f30\",\"line_width\":2,\"x\":{\"field\":\"year\"},\"y\":{\"field\":\"value\"}},\"id\":\"2092\",\"type\":\"Line\"},{\"attributes\":{\"data\":{\"Variable\":[\"sale_price_sqr_foot\",\"sale_price_sqr_foot\",\"sale_price_sqr_foot\",\"sale_price_sqr_foot\",\"sale_price_sqr_foot\",\"sale_price_sqr_foot\",\"sale_price_sqr_foot\"],\"value\":{\"__ndarray__\":\"tgKjeIIVd0Dn7CdydF51QGhijk899nhAZhKk2Jo5fkDGKCTbN2KBQPMTFqRSxINATx33UCbNhUA=\",\"dtype\":\"float64\",\"order\":\"little\",\"shape\":[7]},\"year\":[2010,2011,2012,2013,2014,2015,2016]},\"selected\":{\"id\":\"2068\"},\"selection_policy\":{\"id\":\"2082\"}},\"id\":\"2067\",\"type\":\"ColumnDataSource\"},{\"attributes\":{\"line_alpha\":0.2,\"line_color\":\"#fc4f30\",\"line_width\":2,\"x\":{\"field\":\"year\"},\"y\":{\"field\":\"value\"}},\"id\":\"2093\",\"type\":\"Line\"}],\"root_ids\":[\"2025\"]},\"title\":\"Bokeh Application\",\"version\":\"2.4.3\"}};\n",
       "    var render_items = [{\"docid\":\"6263fd6f-6998-4800-9bc7-d79b6246a85f\",\"root_ids\":[\"2025\"],\"roots\":{\"2025\":\"3cb4999d-9a45-4c33-982e-834f4b6c3935\"}}];\n",
       "    root.Bokeh.embed.embed_items_notebook(docs_json, render_items);\n",
       "  }\n",
       "  if (root.Bokeh !== undefined && root.Bokeh.Panel !== undefined) {\n",
       "    embed_document(root);\n",
       "  } else {\n",
       "    var attempts = 0;\n",
       "    var timer = setInterval(function(root) {\n",
       "      if (root.Bokeh !== undefined && root.Bokeh.Panel !== undefined) {\n",
       "        clearInterval(timer);\n",
       "        embed_document(root);\n",
       "      } else if (document.readyState == \"complete\") {\n",
       "        attempts++;\n",
       "        if (attempts > 200) {\n",
       "          clearInterval(timer);\n",
       "          console.log(\"Bokeh: ERROR: Unable to run BokehJS code because BokehJS library is missing\");\n",
       "        }\n",
       "      }\n",
       "    }, 25, root)\n",
       "  }\n",
       "})(window);</script>"
      ],
      "text/plain": [
       ":NdOverlay   [Variable]\n",
       "   :Curve   [year]   (value)"
      ]
     },
     "execution_count": 74,
     "metadata": {
      "application/vnd.holoviews_exec.v0+json": {
       "id": "2025"
      }
     },
     "output_type": "execute_result"
    }
   ],
   "source": [
    "# Plot prices_square_foot_by_year. \n",
    "# Inclued labels for the x- and y-axes, and a title.\n",
    "# YOUR CODE HERE\n",
    "prices_square_foot_by_year.hvplot.line(y = ['sale_price_sqr_foot', 'gross_rent'],\n",
    "                                       ylabel='gross_rent/sale_price_sqr_foot',\n",
    "                                       xlabel = 'Year',\n",
    "                                       legend='top',\n",
    "                                       ylim = (300, 4500),\n",
    "                                       width = 500,\n",
    "                                       height = 200,\n",
    "                                       title = 'sale_price_sqr_foot & average_gross_rent')"
   ]
  },
  {
   "cell_type": "markdown",
   "metadata": {},
   "source": [
    "### Step 6: Use both the `prices_square_foot_by_year` DataFrame and interactive plots to answer the following questions:"
   ]
  },
  {
   "cell_type": "markdown",
   "metadata": {},
   "source": [
    "**Question:** Did any year experience a drop in the average sale price per square foot compared to the previous year?\n",
    "\n",
    "**Answer:** # 2011"
   ]
  },
  {
   "cell_type": "markdown",
   "metadata": {},
   "source": [
    "**Question:** If so, did the gross rent increase or decrease during that year?\n",
    "\n",
    "**Answer:** increase"
   ]
  },
  {
   "cell_type": "markdown",
   "metadata": {},
   "source": [
    "---"
   ]
  },
  {
   "cell_type": "code",
   "execution_count": null,
   "metadata": {},
   "outputs": [],
   "source": [
    "## Compare the Average Sale Prices by Neighbourhood\n",
    "\n",
    "For this part of the assignment, use interactive visualisations and widgets to explore the average sale price per square foot by neighbourhood. To do so, complete the following steps:\n",
    "\n",
    "1. Create a new DataFrame that groups the original DataFrame by year and neighbourhood. Aggregate the results by the `mean` of the groups.\n",
    "\n",
    "2. Filter out the “housing_units” column to create a DataFrame that includes only the `sale_price_sqr_foot` and `gross_rent` averages per year.\n",
    "\n",
    "3. Create an interactive line plot with hvPlot that visualises both `sale_price_sqr_foot` and `gross_rent`. Set the x-axis parameter to the year (`x=\"year\"`). Use the `groupby` parameter to create an interactive widget for `neighbourhood`.\n",
    "\n",
    "4. Style and format the line plot to ensure a professionally styled visualisation.\n",
    "\n",
    "5. Note that your resulting plot should appear similar to the following image:\n",
    "\n",
    "    ![A screenshot depicts an example of the resulting plot.](Images/6-4-pricing-info-by-neighborhood.png)\n",
    "\n",
    "6. Use the interactive visualisation to answer the following question:\n",
    "\n",
    "    * For the Anza Vista neighbourhood, is the average sale price per square foot for 2016 more or less than the price that’s listed for 2012?\n"
   ]
  },
  {
   "cell_type": "markdown",
   "metadata": {},
   "source": [
    "### Step 1: Create a new DataFrame that groups the original DataFrame by year and neighbourhood. Aggregate the results by the `mean` of the groups."
   ]
  },
  {
   "cell_type": "code",
   "execution_count": 75,
   "metadata": {},
   "outputs": [
    {
     "name": "stdout",
     "output_type": "stream",
     "text": [
      "                             sale_price_sqr_foot  housing_units  gross_rent\n",
      "year neighbourhood                                                         \n",
      "2010 Alamo Square                     291.182945       372560.0      1239.0\n",
      "     Anza Vista                       267.932583       372560.0      1239.0\n",
      "     Bayview                          170.098665       372560.0      1239.0\n",
      "     Buena Vista Park                 347.394919       372560.0      1239.0\n",
      "     Central Richmond                 319.027623       372560.0      1239.0\n",
      "...                                          ...            ...         ...\n",
      "2016 Telegraph Hill                   903.049771       384242.0      4390.0\n",
      "     Twin Peaks                       970.085470       384242.0      4390.0\n",
      "     Van Ness/ Civic Center           552.602567       384242.0      4390.0\n",
      "     Visitacion Valley                328.319007       384242.0      4390.0\n",
      "     Westwood Park                    631.195426       384242.0      4390.0\n",
      "\n",
      "[397 rows x 3 columns]\n"
     ]
    }
   ],
   "source": [
    "# Group by year and neighbourhood and then create a new dataframe of the mean values\n",
    "prices_by_year_by_neighbourhood = sfohood_data_df.groupby(['year','neighbourhood']).mean()\n",
    "\n",
    "# Review the DataFrame\n",
    "print(prices_by_year_by_neighbourhood)"
   ]
  },
  {
   "cell_type": "markdown",
   "metadata": {},
   "source": [
    "### Step 2: Filter out the “housing_units” column to create a DataFrame that includes only the `sale_price_sqr_foot` and `gross_rent` averages per year."
   ]
  },
  {
   "cell_type": "code",
   "execution_count": 81,
   "metadata": {},
   "outputs": [
    {
     "data": {
      "text/html": [
       "<div>\n",
       "<style scoped>\n",
       "    .dataframe tbody tr th:only-of-type {\n",
       "        vertical-align: middle;\n",
       "    }\n",
       "\n",
       "    .dataframe tbody tr th {\n",
       "        vertical-align: top;\n",
       "    }\n",
       "\n",
       "    .dataframe thead th {\n",
       "        text-align: right;\n",
       "    }\n",
       "</style>\n",
       "<table border=\"1\" class=\"dataframe\">\n",
       "  <thead>\n",
       "    <tr style=\"text-align: right;\">\n",
       "      <th></th>\n",
       "      <th>sale_price_sqr_foot</th>\n",
       "      <th>housing_units</th>\n",
       "      <th>gross_rent</th>\n",
       "    </tr>\n",
       "    <tr>\n",
       "      <th>year</th>\n",
       "      <th></th>\n",
       "      <th></th>\n",
       "      <th></th>\n",
       "    </tr>\n",
       "  </thead>\n",
       "  <tbody>\n",
       "    <tr>\n",
       "      <th>2012</th>\n",
       "      <td>399.389968</td>\n",
       "      <td>376454.0</td>\n",
       "      <td>2324.0</td>\n",
       "    </tr>\n",
       "    <tr>\n",
       "      <th>2013</th>\n",
       "      <td>483.600304</td>\n",
       "      <td>378401.0</td>\n",
       "      <td>2971.0</td>\n",
       "    </tr>\n",
       "    <tr>\n",
       "      <th>2014</th>\n",
       "      <td>556.277273</td>\n",
       "      <td>380348.0</td>\n",
       "      <td>3528.0</td>\n",
       "    </tr>\n",
       "    <tr>\n",
       "      <th>2015</th>\n",
       "      <td>632.540352</td>\n",
       "      <td>382295.0</td>\n",
       "      <td>3739.0</td>\n",
       "    </tr>\n",
       "    <tr>\n",
       "      <th>2016</th>\n",
       "      <td>697.643709</td>\n",
       "      <td>384242.0</td>\n",
       "      <td>4390.0</td>\n",
       "    </tr>\n",
       "  </tbody>\n",
       "</table>\n",
       "</div>"
      ],
      "text/plain": [
       "      sale_price_sqr_foot  housing_units  gross_rent\n",
       "year                                                \n",
       "2012           399.389968       376454.0      2324.0\n",
       "2013           483.600304       378401.0      2971.0\n",
       "2014           556.277273       380348.0      3528.0\n",
       "2015           632.540352       382295.0      3739.0\n",
       "2016           697.643709       384242.0      4390.0"
      ]
     },
     "execution_count": 81,
     "metadata": {},
     "output_type": "execute_result"
    }
   ],
   "source": [
    "# Filter out the housing_units\n",
    "prices_square_foot_by_year.drop(columns = 'housing_units')\n",
    "\n",
    "# Review the first and last five rows of the DataFrame\n",
    "prices_square_foot_by_year.head()\n",
    "prices_square_foot_by_year.tail()"
   ]
  },
  {
   "cell_type": "markdown",
   "metadata": {},
   "source": [
    "### Step 3: Create an interactive line plot with hvPlot that visualises both `sale_price_sqr_foot` and `gross_rent`. Set the x-axis parameter to the year (`x=\"year\"`). Use the `groupby` parameter to create an interactive widget for `neighbourhood`.\n",
    "\n",
    "### Step 4: Style and format the line plot to ensure a professionally styled visualisation."
   ]
  },
  {
   "cell_type": "code",
   "execution_count": 95,
   "metadata": {},
   "outputs": [
    {
     "data": {},
     "metadata": {},
     "output_type": "display_data"
    },
    {
     "data": {
      "application/vnd.holoviews_exec.v0+json": "",
      "text/html": [
       "<div id='4079'>\n",
       "  <div class=\"bk-root\" id=\"cd8460af-2f76-40d6-810b-7e0fc13502f5\" data-root-id=\"4079\"></div>\n",
       "</div>\n",
       "<script type=\"application/javascript\">(function(root) {\n",
       "  function embed_document(root) {\n",
       "    var docs_json = {\"0741f6f0-74f4-4e74-9ebc-6bd36af7f598\":{\"defs\":[{\"extends\":null,\"module\":null,\"name\":\"ReactiveHTML1\",\"overrides\":[],\"properties\":[]},{\"extends\":null,\"module\":null,\"name\":\"FlexBox1\",\"overrides\":[],\"properties\":[{\"default\":\"flex-start\",\"kind\":null,\"name\":\"align_content\"},{\"default\":\"flex-start\",\"kind\":null,\"name\":\"align_items\"},{\"default\":\"row\",\"kind\":null,\"name\":\"flex_direction\"},{\"default\":\"wrap\",\"kind\":null,\"name\":\"flex_wrap\"},{\"default\":\"flex-start\",\"kind\":null,\"name\":\"justify_content\"}]},{\"extends\":null,\"module\":null,\"name\":\"GridStack1\",\"overrides\":[],\"properties\":[{\"default\":\"warn\",\"kind\":null,\"name\":\"mode\"},{\"default\":null,\"kind\":null,\"name\":\"ncols\"},{\"default\":null,\"kind\":null,\"name\":\"nrows\"},{\"default\":true,\"kind\":null,\"name\":\"allow_resize\"},{\"default\":true,\"kind\":null,\"name\":\"allow_drag\"},{\"default\":[],\"kind\":null,\"name\":\"state\"}]},{\"extends\":null,\"module\":null,\"name\":\"click1\",\"overrides\":[],\"properties\":[{\"default\":\"\",\"kind\":null,\"name\":\"terminal_output\"},{\"default\":\"\",\"kind\":null,\"name\":\"debug_name\"},{\"default\":0,\"kind\":null,\"name\":\"clears\"}]},{\"extends\":null,\"module\":null,\"name\":\"NotificationAreaBase1\",\"overrides\":[],\"properties\":[{\"default\":\"bottom-right\",\"kind\":null,\"name\":\"position\"},{\"default\":0,\"kind\":null,\"name\":\"_clear\"}]},{\"extends\":null,\"module\":null,\"name\":\"NotificationArea1\",\"overrides\":[],\"properties\":[{\"default\":[],\"kind\":null,\"name\":\"notifications\"},{\"default\":\"bottom-right\",\"kind\":null,\"name\":\"position\"},{\"default\":0,\"kind\":null,\"name\":\"_clear\"},{\"default\":[{\"background\":\"#ffc107\",\"icon\":{\"className\":\"fas fa-exclamation-triangle\",\"color\":\"white\",\"tagName\":\"i\"},\"type\":\"warning\"},{\"background\":\"#007bff\",\"icon\":{\"className\":\"fas fa-info-circle\",\"color\":\"white\",\"tagName\":\"i\"},\"type\":\"info\"}],\"kind\":null,\"name\":\"types\"}]},{\"extends\":null,\"module\":null,\"name\":\"Notification\",\"overrides\":[],\"properties\":[{\"default\":null,\"kind\":null,\"name\":\"background\"},{\"default\":3000,\"kind\":null,\"name\":\"duration\"},{\"default\":null,\"kind\":null,\"name\":\"icon\"},{\"default\":\"\",\"kind\":null,\"name\":\"message\"},{\"default\":null,\"kind\":null,\"name\":\"notification_type\"},{\"default\":false,\"kind\":null,\"name\":\"_destroyed\"}]},{\"extends\":null,\"module\":null,\"name\":\"TemplateActions1\",\"overrides\":[],\"properties\":[{\"default\":0,\"kind\":null,\"name\":\"open_modal\"},{\"default\":0,\"kind\":null,\"name\":\"close_modal\"}]},{\"extends\":null,\"module\":null,\"name\":\"MaterialTemplateActions1\",\"overrides\":[],\"properties\":[{\"default\":0,\"kind\":null,\"name\":\"open_modal\"},{\"default\":0,\"kind\":null,\"name\":\"close_modal\"}]}],\"roots\":{\"references\":[{\"attributes\":{\"line_alpha\":0.2,\"line_color\":\"#fc4f30\",\"line_width\":2,\"x\":{\"field\":\"year\"},\"y\":{\"field\":\"value\"}},\"id\":\"4147\",\"type\":\"Line\"},{\"attributes\":{\"line_alpha\":0.1,\"line_color\":\"#fc4f30\",\"line_width\":2,\"x\":{\"field\":\"year\"},\"y\":{\"field\":\"value\"}},\"id\":\"4146\",\"type\":\"Line\"},{\"attributes\":{},\"id\":\"4095\",\"type\":\"BasicTicker\"},{\"attributes\":{\"source\":{\"id\":\"4142\"}},\"id\":\"4149\",\"type\":\"CDSView\"},{\"attributes\":{\"children\":[{\"id\":\"4080\"},{\"id\":\"4085\"},{\"id\":\"4182\"},{\"id\":\"4183\"}],\"margin\":[0,0,0,0],\"name\":\"Row03906\"},\"id\":\"4079\",\"type\":\"Row\"},{\"attributes\":{\"children\":[{\"id\":\"4184\"},{\"id\":\"4185\"},{\"id\":\"4187\"}],\"margin\":[0,0,0,0],\"name\":\"Column03914\"},\"id\":\"4183\",\"type\":\"Column\"},{\"attributes\":{\"margin\":[5,5,5,5],\"name\":\"HSpacer03916\",\"sizing_mode\":\"stretch_width\"},\"id\":\"4182\",\"type\":\"Spacer\"},{\"attributes\":{},\"id\":\"4099\",\"type\":\"BasicTicker\"},{\"attributes\":{\"axis\":{\"id\":\"4098\"},\"coordinates\":null,\"dimension\":1,\"grid_line_color\":null,\"group\":null,\"ticker\":null},\"id\":\"4101\",\"type\":\"Grid\"},{\"attributes\":{},\"id\":\"4117\",\"type\":\"AllLabels\"},{\"attributes\":{\"end\":2016.0,\"reset_end\":2016.0,\"reset_start\":2010.0,\"start\":2010.0,\"tags\":[[[\"year\",\"year\",null]]]},\"id\":\"4081\",\"type\":\"Range1d\"},{\"attributes\":{\"below\":[{\"id\":\"4094\"}],\"center\":[{\"id\":\"4097\"},{\"id\":\"4101\"}],\"height\":300,\"left\":[{\"id\":\"4098\"}],\"margin\":[5,5,5,5],\"min_border_bottom\":10,\"min_border_left\":10,\"min_border_right\":10,\"min_border_top\":10,\"renderers\":[{\"id\":\"4127\"},{\"id\":\"4148\"}],\"right\":[{\"id\":\"4139\"}],\"sizing_mode\":\"fixed\",\"title\":{\"id\":\"4086\"},\"toolbar\":{\"id\":\"4108\"},\"width\":500,\"x_range\":{\"id\":\"4081\"},\"x_scale\":{\"id\":\"4090\"},\"y_range\":{\"id\":\"4082\"},\"y_scale\":{\"id\":\"4092\"}},\"id\":\"4085\",\"subtype\":\"Figure\",\"type\":\"Plot\"},{\"attributes\":{\"line_color\":\"#30a2da\",\"line_width\":2,\"x\":{\"field\":\"year\"},\"y\":{\"field\":\"value\"}},\"id\":\"4124\",\"type\":\"Line\"},{\"attributes\":{\"line_color\":\"#fc4f30\",\"line_width\":2,\"x\":{\"field\":\"year\"},\"y\":{\"field\":\"value\"}},\"id\":\"4145\",\"type\":\"Line\"},{\"attributes\":{},\"id\":\"4122\",\"type\":\"Selection\"},{\"attributes\":{\"children\":[{\"id\":\"4186\"}],\"css_classes\":[\"panel-widget-box\"],\"margin\":[5,5,5,5],\"name\":\"WidgetBox03907\"},\"id\":\"4185\",\"type\":\"Column\"},{\"attributes\":{},\"id\":\"4120\",\"type\":\"AllLabels\"},{\"attributes\":{},\"id\":\"4159\",\"type\":\"UnionRenderers\"},{\"attributes\":{\"client_comm_id\":\"47e8370db9f941a99ad500b8c5c26a9d\",\"comm_id\":\"0bc93074f2034b1090237acedf34daba\",\"plot_id\":\"4079\"},\"id\":\"4224\",\"type\":\"panel.models.comm_manager.CommManager\"},{\"attributes\":{},\"id\":\"4119\",\"type\":\"BasicTickFormatter\"},{\"attributes\":{\"margin\":[20,20,20,20],\"min_width\":250,\"options\":[\"Alamo Square\",\"Anza Vista\",\"Bayview\",\"Buena Vista Park\",\"Central Richmond\",\"Central Sunset\",\"Corona Heights\",\"Cow Hollow\",\"Croker Amazon\",\"Diamond Heights\",\"Downtown \",\"Eureka Valley/Dolores Heights\",\"Excelsior\",\"Financial District North\",\"Financial District South\",\"Forest Knolls\",\"Glen Park\",\"Golden Gate Heights\",\"Haight Ashbury\",\"Hayes Valley\",\"Hunters Point\",\"Ingleside \",\"Inner Mission\",\"Inner Parkside\",\"Inner Richmond\",\"Inner Sunset\",\"Jordan Park/Laurel Heights\",\"Lake --The Presidio\",\"Lone Mountain\",\"Lower Pacific Heights\",\"Marina\",\"Miraloma Park\",\"Mission Bay\",\"Mission Dolores\",\"Mission Terrace\",\"Nob Hill\",\"Noe Valley\",\"Oceanview\",\"Outer Parkside\",\"Outer Richmond \",\"Outer Sunset\",\"Pacific Heights\",\"Park North\",\"Parkside\",\"Parnassus/Ashbury Heights\",\"Portola\",\"Potrero Hill\",\"Presidio Heights\",\"Russian Hill\",\"South Beach\",\"South of Market\",\"Sunnyside\",\"Telegraph Hill\",\"Twin Peaks\",\"Union Square District\",\"Van Ness/ Civic Center\",\"West Portal\",\"Western Addition\",\"Yerba Buena\",\"Bernal Heights \",\"Clarendon Heights\",\"Duboce Triangle\",\"Ingleside Heights\",\"North Beach\",\"North Waterfront\",\"Outer Mission\",\"Westwood Highlands\",\"Merced Heights\",\"Midtown Terrace\",\"Visitacion Valley\",\"Silver Terrace\",\"Westwood Park\",\"Bayview Heights\"],\"title\":\"neighbourhood\",\"value\":\"Alamo Square\",\"width\":250},\"id\":\"4186\",\"type\":\"panel.models.widgets.CustomSelect\"},{\"attributes\":{\"line_alpha\":0.1,\"line_color\":\"#30a2da\",\"line_width\":2,\"x\":{\"field\":\"year\"},\"y\":{\"field\":\"value\"}},\"id\":\"4125\",\"type\":\"Line\"},{\"attributes\":{},\"id\":\"4102\",\"type\":\"SaveTool\"},{\"attributes\":{\"line_color\":\"#fc4f30\",\"line_width\":2,\"x\":{\"field\":\"year\"},\"y\":{\"field\":\"value\"}},\"id\":\"4163\",\"type\":\"Line\"},{\"attributes\":{\"line_alpha\":0.2,\"line_color\":\"#30a2da\",\"line_width\":2,\"x\":{\"field\":\"year\"},\"y\":{\"field\":\"value\"}},\"id\":\"4126\",\"type\":\"Line\"},{\"attributes\":{},\"id\":\"4103\",\"type\":\"PanTool\"},{\"attributes\":{\"coordinates\":null,\"data_source\":{\"id\":\"4121\"},\"glyph\":{\"id\":\"4124\"},\"group\":null,\"hover_glyph\":null,\"muted_glyph\":{\"id\":\"4126\"},\"nonselection_glyph\":{\"id\":\"4125\"},\"selection_glyph\":{\"id\":\"4141\"},\"view\":{\"id\":\"4128\"}},\"id\":\"4127\",\"type\":\"GlyphRenderer\"},{\"attributes\":{},\"id\":\"4116\",\"type\":\"BasicTickFormatter\"},{\"attributes\":{\"data\":{\"Variable\":[\"gross_rent\",\"gross_rent\",\"gross_rent\",\"gross_rent\",\"gross_rent\",\"gross_rent\",\"gross_rent\"],\"value\":{\"__ndarray__\":\"AAAAAABck0AAAAAAAOiXQAAAAAAAKKJAAAAAAAA2p0AAAAAAAJCrQAAAAAAANq1AAAAAAAAmsUA=\",\"dtype\":\"float64\",\"order\":\"little\",\"shape\":[7]},\"year\":[2010,2011,2012,2013,2014,2015,2016]},\"selected\":{\"id\":\"4143\"},\"selection_policy\":{\"id\":\"4159\"}},\"id\":\"4142\",\"type\":\"ColumnDataSource\"},{\"attributes\":{},\"id\":\"4104\",\"type\":\"WheelZoomTool\"},{\"attributes\":{\"margin\":[5,5,5,5],\"name\":\"HSpacer03915\",\"sizing_mode\":\"stretch_width\"},\"id\":\"4080\",\"type\":\"Spacer\"},{\"attributes\":{\"tools\":[{\"id\":\"4083\"},{\"id\":\"4102\"},{\"id\":\"4103\"},{\"id\":\"4104\"},{\"id\":\"4105\"},{\"id\":\"4106\"}]},\"id\":\"4108\",\"type\":\"Toolbar\"},{\"attributes\":{\"margin\":[5,5,5,5],\"name\":\"VSpacer03912\",\"sizing_mode\":\"stretch_height\"},\"id\":\"4184\",\"type\":\"Spacer\"},{\"attributes\":{\"source\":{\"id\":\"4121\"}},\"id\":\"4128\",\"type\":\"CDSView\"},{\"attributes\":{\"end\":5000,\"reset_end\":5000,\"reset_start\":100,\"start\":100,\"tags\":[[[\"value\",\"value\",null]]]},\"id\":\"4082\",\"type\":\"Range1d\"},{\"attributes\":{\"overlay\":{\"id\":\"4107\"}},\"id\":\"4105\",\"type\":\"BoxZoomTool\"},{\"attributes\":{\"coordinates\":null,\"group\":null,\"text\":\"interactive line plot  neighbourhood: Alamo Square\",\"text_color\":\"black\",\"text_font_size\":\"12pt\"},\"id\":\"4086\",\"type\":\"Title\"},{\"attributes\":{\"data\":{\"Variable\":[\"sale_price_sqr_foot\",\"sale_price_sqr_foot\",\"sale_price_sqr_foot\",\"sale_price_sqr_foot\",\"sale_price_sqr_foot\",\"sale_price_sqr_foot\",\"sale_price_sqr_foot\"],\"value\":{\"__ndarray__\":\"DUc7WO0yckCafszcbwhxQIKRs5ot42ZAKDog0LQ8eEAVMinKGEd+QI4V5FDt0IJAVCHcmLVPdUA=\",\"dtype\":\"float64\",\"order\":\"little\",\"shape\":[7]},\"year\":[2010,2011,2012,2013,2014,2015,2016]},\"selected\":{\"id\":\"4122\"},\"selection_policy\":{\"id\":\"4136\"}},\"id\":\"4121\",\"type\":\"ColumnDataSource\"},{\"attributes\":{\"line_color\":\"#30a2da\",\"line_width\":2,\"x\":{\"field\":\"year\"},\"y\":{\"field\":\"value\"}},\"id\":\"4141\",\"type\":\"Line\"},{\"attributes\":{},\"id\":\"4136\",\"type\":\"UnionRenderers\"},{\"attributes\":{\"axis_label\":\"gross_rent/sale_price_sqr_foot\",\"coordinates\":null,\"formatter\":{\"id\":\"4119\"},\"group\":null,\"major_label_policy\":{\"id\":\"4120\"},\"ticker\":{\"id\":\"4099\"}},\"id\":\"4098\",\"type\":\"LinearAxis\"},{\"attributes\":{\"label\":{\"value\":\"sale_price_sqr_foot\"},\"renderers\":[{\"id\":\"4127\"}]},\"id\":\"4140\",\"type\":\"LegendItem\"},{\"attributes\":{},\"id\":\"4143\",\"type\":\"Selection\"},{\"attributes\":{},\"id\":\"4106\",\"type\":\"ResetTool\"},{\"attributes\":{},\"id\":\"4090\",\"type\":\"LinearScale\"},{\"attributes\":{\"margin\":[5,5,5,5],\"name\":\"VSpacer03913\",\"sizing_mode\":\"stretch_height\"},\"id\":\"4187\",\"type\":\"Spacer\"},{\"attributes\":{\"bottom_units\":\"screen\",\"coordinates\":null,\"fill_alpha\":0.5,\"fill_color\":\"lightgrey\",\"group\":null,\"left_units\":\"screen\",\"level\":\"overlay\",\"line_alpha\":1.0,\"line_color\":\"black\",\"line_dash\":[4,4],\"line_width\":2,\"right_units\":\"screen\",\"syncable\":false,\"top_units\":\"screen\"},\"id\":\"4107\",\"type\":\"BoxAnnotation\"},{\"attributes\":{},\"id\":\"4092\",\"type\":\"LinearScale\"},{\"attributes\":{\"callback\":null,\"renderers\":[{\"id\":\"4127\"},{\"id\":\"4148\"}],\"tags\":[\"hv_created\"],\"tooltips\":[[\"Variable\",\"@{Variable}\"],[\"year\",\"@{year}\"],[\"value\",\"@{value}\"]]},\"id\":\"4083\",\"type\":\"HoverTool\"},{\"attributes\":{\"click_policy\":\"mute\",\"coordinates\":null,\"group\":null,\"items\":[{\"id\":\"4140\"},{\"id\":\"4162\"}],\"location\":[0,0],\"title\":\"Variable\"},\"id\":\"4139\",\"type\":\"Legend\"},{\"attributes\":{\"axis_label\":\"Year\",\"coordinates\":null,\"formatter\":{\"id\":\"4116\"},\"group\":null,\"major_label_policy\":{\"id\":\"4117\"},\"ticker\":{\"id\":\"4095\"}},\"id\":\"4094\",\"type\":\"LinearAxis\"},{\"attributes\":{\"label\":{\"value\":\"gross_rent\"},\"renderers\":[{\"id\":\"4148\"}]},\"id\":\"4162\",\"type\":\"LegendItem\"},{\"attributes\":{\"coordinates\":null,\"data_source\":{\"id\":\"4142\"},\"glyph\":{\"id\":\"4145\"},\"group\":null,\"hover_glyph\":null,\"muted_glyph\":{\"id\":\"4147\"},\"nonselection_glyph\":{\"id\":\"4146\"},\"selection_glyph\":{\"id\":\"4163\"},\"view\":{\"id\":\"4149\"}},\"id\":\"4148\",\"type\":\"GlyphRenderer\"},{\"attributes\":{\"axis\":{\"id\":\"4094\"},\"coordinates\":null,\"grid_line_color\":null,\"group\":null,\"ticker\":null},\"id\":\"4097\",\"type\":\"Grid\"}],\"root_ids\":[\"4079\",\"4224\"]},\"title\":\"Bokeh Application\",\"version\":\"2.4.3\"}};\n",
       "    var render_items = [{\"docid\":\"0741f6f0-74f4-4e74-9ebc-6bd36af7f598\",\"root_ids\":[\"4079\"],\"roots\":{\"4079\":\"cd8460af-2f76-40d6-810b-7e0fc13502f5\"}}];\n",
       "    root.Bokeh.embed.embed_items_notebook(docs_json, render_items);\n",
       "  }\n",
       "  if (root.Bokeh !== undefined && root.Bokeh.Panel !== undefined) {\n",
       "    embed_document(root);\n",
       "  } else {\n",
       "    var attempts = 0;\n",
       "    var timer = setInterval(function(root) {\n",
       "      if (root.Bokeh !== undefined && root.Bokeh.Panel !== undefined) {\n",
       "        clearInterval(timer);\n",
       "        embed_document(root);\n",
       "      } else if (document.readyState == \"complete\") {\n",
       "        attempts++;\n",
       "        if (attempts > 200) {\n",
       "          clearInterval(timer);\n",
       "          console.log(\"Bokeh: ERROR: Unable to run BokehJS code because BokehJS library is missing\");\n",
       "        }\n",
       "      }\n",
       "    }, 25, root)\n",
       "  }\n",
       "})(window);</script>"
      ],
      "text/plain": [
       ":DynamicMap   [neighbourhood]\n",
       "   :NdOverlay   [Variable]\n",
       "      :Curve   [year]   (value)"
      ]
     },
     "execution_count": 95,
     "metadata": {
      "application/vnd.holoviews_exec.v0+json": {
       "id": "4079"
      }
     },
     "output_type": "execute_result"
    }
   ],
   "source": [
    "# Use hvplot to create an interactive line plot of the average price per square foot\n",
    "# The plot should have a dropdown selector for the neighbourhood\n",
    "prices_by_year_by_neighbourhood.hvplot.line(x='year', \n",
    "                                           y=['sale_price_sqr_foot', 'gross_rent'],\n",
    "                                           ylabel='gross_rent/sale_price_sqr_foot', \n",
    "                                           xlabel = 'Year',\n",
    "                                           legend='right',groupby= 'neighbourhood', \n",
    "                                           width = 500, \n",
    "                                           height = 300,\n",
    "                                           ylim = (100, 5000),\n",
    "                                           label = 'interactive line plot')"
   ]
  },
  {
   "cell_type": "markdown",
   "metadata": {},
   "source": [
    "### Step 6: Use the interactive visualisation to answer the following question:"
   ]
  },
  {
   "cell_type": "markdown",
   "metadata": {},
   "source": [
    "**Question:** For the Anza Vista neighbourhood, is the average sale price per square foot for 2016 more or less than the price that’s listed for 2012? \n",
    "\n",
    "**Answer:** # More"
   ]
  },
  {
   "cell_type": "markdown",
   "metadata": {},
   "source": [
    "---"
   ]
  },
  {
   "cell_type": "markdown",
   "metadata": {},
   "source": [
    "## Build an Interactive Neighbourhood Map\n",
    "\n",
    "For this part of the assignment, explore the geospatial relationships in the data by using interactive visualisations with hvPlot and GeoViews. To build your map, use the `sfo_data_df` DataFrame (created during the initial import), which includes the neighbourhood location data with the average prices. To do all this, complete the following steps:\n",
    "\n",
    "1. Read the `neighbourhood_coordinates.csv` file from the `Resources` folder into the notebook, and create a DataFrame named `neighbourhood_locations_df`. Be sure to set the `index_col` of the DataFrame as “Neighbourhood”.\n",
    "\n",
    "2. Using the original `sfo_data_df` Dataframe, create a DataFrame named `all_neighbourhood_info_df` that groups the data by neighbourhood. Aggregate the results by the `mean` of the group.\n",
    "\n",
    "3. Review the two code cells that concatenate the `neighbourhood_locations_df` DataFrame with the `all_neighbourhood_info_df` DataFrame. Note that the first cell uses the [Pandas concat function](https://pandas.pydata.org/pandas-docs/stable/reference/api/pandas.concat.html) to create a DataFrame named `all_neighbourhoods_df`. The second cell cleans the data and sets the “Neighbourhood” column. Be sure to run these cells to create the `all_neighbourhoods_df` DataFrame, which you’ll need to create the geospatial visualisation.\n",
    "\n",
    "4. Using hvPlot with GeoViews enabled, create a `points` plot for the `all_neighbourhoods_df` DataFrame. Be sure to do the following:\n",
    "\n",
    "    * Set the `size` parameter to “sale_price_sqr_foot”.\n",
    "\n",
    "    * Set the `color` parameter to “gross_rent”.\n",
    "\n",
    "    * Set the `frame_width` parameter to 700.\n",
    "\n",
    "    * Set the `frame_height` parameter to 500.\n",
    "\n",
    "    * Include a descriptive title.\n",
    "\n",
    "    Note that your resulting plot should appear similar to the following image:\n",
    "\n",
    "    ![A screenshot depicts an example of a scatter plot created with hvPlot and GeoViews.](Images/6-4-geoviews-plot.png)\n",
    "\n",
    "5. Use the interactive map to answer the following question:\n",
    "\n",
    "    * Which neighbourhood has the highest gross rent, and which has the highest sale price per square foot?"
   ]
  },
  {
   "cell_type": "markdown",
   "metadata": {},
   "source": [
    "### Step 1: Read the `neighbourhood_coordinates.csv` file from the `Resources` folder into the notebook, and create a DataFrame named `neighbourhood_locations_df`. Be sure to set the `index_col` of the DataFrame as “Neighbourhood”."
   ]
  },
  {
   "cell_type": "code",
   "execution_count": 99,
   "metadata": {},
   "outputs": [
    {
     "name": "stdout",
     "output_type": "stream",
     "text": [
      "         Neighbourhood        Lat         Lon\n",
      "0         Alamo Square  37.791012 -122.402100\n",
      "1           Anza Vista  37.779598 -122.443451\n",
      "2              Bayview  37.734670 -122.401060\n",
      "3      Bayview Heights  37.728740 -122.410980\n",
      "4       Bernal Heights  37.728630 -122.443050\n",
      "..                 ...        ...         ...\n",
      "68         West Portal  37.740260 -122.463880\n",
      "69    Western Addition  37.792980 -122.435790\n",
      "70  Westwood Highlands  37.734700 -122.456854\n",
      "71       Westwood Park  37.734150 -122.457000\n",
      "72         Yerba Buena  37.792980 -122.396360\n",
      "\n",
      "[73 rows x 3 columns]\n"
     ]
    }
   ],
   "source": [
    "# Load neighbourhoods coordinates data\n",
    "neighbourhood_locations_df = pd.read_csv(Path('./Resources/neighbourhoods_coordinates.csv'))\n",
    "\n",
    "# Review the DataFrame\n",
    "print(neighbourhood_locations_df)"
   ]
  },
  {
   "cell_type": "markdown",
   "metadata": {},
   "source": [
    "### Step 2: Using the original `sfo_data_df` Dataframe, create a DataFrame named `all_neighbourhood_info_df` that groups the data by neighbourhood. Aggregate the results by the `mean` of the group."
   ]
  },
  {
   "cell_type": "code",
   "execution_count": 101,
   "metadata": {},
   "outputs": [
    {
     "name": "stdout",
     "output_type": "stream",
     "text": [
      "Empty DataFrame\n",
      "Columns: []\n",
      "Index: [(Alamo Square, 37.791012, -122.4021), (Anza Vista, 37.779598, -122.443451), (Bayview, 37.73467, -122.40106), (Bayview Heights, 37.72874, -122.41098), (Bernal Heights, 37.72863, -122.44305), (Buena Vista Park, 37.76816, -122.43933), (Central Richmond, 37.77789, -122.44517), (Central Sunset, 37.74961, -122.48999), (Clarendon Heights, 37.75331, -122.44703), (Corona Heights, 37.78553, -122.456), (Cow Hollow, 37.79298, -122.43579), (Croker Amazon, 37.7228, -122.43869), (Diamond Heights, 37.72863, -122.44305), (Downtown, 37.79101, -122.4021), (Duboce Triangle, 37.76964, -122.42611), (Eureka Valley/Dolores Heights, 37.75554, -122.43779), (Excelsior, 37.72874, -122.41098), (Financial District North, 37.79101, -122.4021), (Financial District South, 37.79101, -122.4021), (Forest Knolls, 37.75706, -122.45509), (Glen Park, 37.72863, -122.44305), (Golden Gate Heights, 37.757912, -122.46402), (Haight Ashbury, 37.76525, -122.43596), (Hayes Valley, 37.76525, -122.43596), (Hunters Point, 37.72551, -122.37178), (Ingleside, 37.721161, -122.487068), (Ingleside Heights, 37.72116, -122.48707), (Inner Mission, 37.75416, -122.41947), (Inner Parkside, 37.74961, -122.48999), (Inner Richmond, 37.769112, -122.483566), (Inner Sunset, 37.74961, -122.48997), (Jordan Park/Laurel Heights, 37.78553, -122.456), (Lake --The Presidio, 37.80152, -122.45457), (Lone Mountain, 37.7789, -122.45496), (Lower Pacific Heights, 37.79298, -122.43579), (Marina, 37.79972, -122.46689), (Merced Heights, 37.71993, -122.46595), (Midtown Terrace, 37.75331, -122.44703), (Miraloma Park, 37.73415, -122.457), (Mission Bay, 37.78323, -122.40065), (Mission Dolores, 37.75184, -122.42522), (Mission Terrace, 37.72863, -122.44305), (Nob Hill, 37.79298, -122.43579), (Noe Valley, 37.75331, -122.44703), (North Beach, 37.80055, -122.40433), (North Waterfront, 37.80055, -122.40433), (Oceanview, 37.71993, -122.46595), (Outer Mission, 37.7228, -122.43869), (Outer Parkside, 37.7517, -122.446), (Outer Richmond, 37.76911, -122.48357), (Outer Sunset, 37.74961, -122.48999), (Pacific Heights, 37.79298, -122.43579), (Park North, 37.72838, -122.47851), (Parkside, 37.74961, -122.48999), (Parnassus/Ashbury Heights, 37.76355, -122.45765), (Portola, 37.73467, -122.40106), (Potrero Hill, 37.73196, -122.38324), (Presidio Heights, 37.78553, -122.456), (Russian Hill, 37.79298, -122.43579), (Silver Terrace, 37.73467, -122.40106), (South Beach, 37.78323, -122.40065), (South of Market, 37.79101, -122.4021), (Sunnyside, 37.73415, -122.457), (Telegraph Hill, 37.80055, -122.40433), (Twin Peaks, 37.753311, -122.447029), (Union Square District, 37.79101, -122.4021), (Van Ness/ Civic Center, 37.77951, -122.42022), (Visitacion Valley, 37.72874, -122.41098), (West Portal, 37.74026, -122.46388), (Western Addition, 37.79298, -122.43579), (Westwood Highlands, 37.7347, -122.456854), (Westwood Park, 37.73415, -122.457), (Yerba Buena, 37.79298, -122.39636)]\n",
      "\n",
      "[73 rows x 0 columns]\n"
     ]
    }
   ],
   "source": [
    "# Calculate the mean values for each neighbourhood\n",
    "all_neighbourhood_info_df = neighbourhood_locations_df.groupby(['Neighbourhood','Lat','Lon']).mean()\n",
    "\n",
    "# Review the resulting DataFrame\n",
    "print(all_neighbourhood_info_df)"
   ]
  },
  {
   "cell_type": "code",
   "execution_count": null,
   "metadata": {},
   "outputs": [],
   "source": [
    "### Step 3: Review the two code cells that concatenate the `neighbourhood_locations_df` DataFrame with the `all_neighbourhood_info_df` DataFrame. \n",
    "\n",
    "Note that the first cell uses the [Pandas concat function](https://pandas.pydata.org/pandas-docs/stable/reference/api/pandas.concat.html) to create a DataFrame named `all_neighbourhoods_df`. \n",
    "\n",
    "The second cell cleans the data and sets the “Neighbourhood” column. \n",
    "\n",
    "Be sure to run these cells to create the `all_neighbourhoods_df` DataFrame, which you’ll need to create the geospatial visualisation."
   ]
  },
  {
   "cell_type": "code",
   "execution_count": 103,
   "metadata": {},
   "outputs": [
    {
     "data": {
      "text/html": [
       "<div>\n",
       "<style scoped>\n",
       "    .dataframe tbody tr th:only-of-type {\n",
       "        vertical-align: middle;\n",
       "    }\n",
       "\n",
       "    .dataframe tbody tr th {\n",
       "        vertical-align: top;\n",
       "    }\n",
       "\n",
       "    .dataframe thead th {\n",
       "        text-align: right;\n",
       "    }\n",
       "</style>\n",
       "<table border=\"1\" class=\"dataframe\">\n",
       "  <thead>\n",
       "    <tr style=\"text-align: right;\">\n",
       "      <th></th>\n",
       "      <th>Neighbourhood</th>\n",
       "      <th>Lat</th>\n",
       "      <th>Lon</th>\n",
       "    </tr>\n",
       "  </thead>\n",
       "  <tbody>\n",
       "    <tr>\n",
       "      <th>0</th>\n",
       "      <td>Alamo Square</td>\n",
       "      <td>37.791012</td>\n",
       "      <td>-122.402100</td>\n",
       "    </tr>\n",
       "    <tr>\n",
       "      <th>1</th>\n",
       "      <td>Anza Vista</td>\n",
       "      <td>37.779598</td>\n",
       "      <td>-122.443451</td>\n",
       "    </tr>\n",
       "    <tr>\n",
       "      <th>2</th>\n",
       "      <td>Bayview</td>\n",
       "      <td>37.734670</td>\n",
       "      <td>-122.401060</td>\n",
       "    </tr>\n",
       "    <tr>\n",
       "      <th>3</th>\n",
       "      <td>Bayview Heights</td>\n",
       "      <td>37.728740</td>\n",
       "      <td>-122.410980</td>\n",
       "    </tr>\n",
       "    <tr>\n",
       "      <th>4</th>\n",
       "      <td>Bernal Heights</td>\n",
       "      <td>37.728630</td>\n",
       "      <td>-122.443050</td>\n",
       "    </tr>\n",
       "  </tbody>\n",
       "</table>\n",
       "</div>"
      ],
      "text/plain": [
       "     Neighbourhood        Lat         Lon\n",
       "0     Alamo Square  37.791012 -122.402100\n",
       "1       Anza Vista  37.779598 -122.443451\n",
       "2          Bayview  37.734670 -122.401060\n",
       "3  Bayview Heights  37.728740 -122.410980\n",
       "4   Bernal Heights  37.728630 -122.443050"
      ]
     },
     "metadata": {},
     "output_type": "display_data"
    },
    {
     "data": {
      "text/html": [
       "<div>\n",
       "<style scoped>\n",
       "    .dataframe tbody tr th:only-of-type {\n",
       "        vertical-align: middle;\n",
       "    }\n",
       "\n",
       "    .dataframe tbody tr th {\n",
       "        vertical-align: top;\n",
       "    }\n",
       "\n",
       "    .dataframe thead th {\n",
       "        text-align: right;\n",
       "    }\n",
       "</style>\n",
       "<table border=\"1\" class=\"dataframe\">\n",
       "  <thead>\n",
       "    <tr style=\"text-align: right;\">\n",
       "      <th></th>\n",
       "      <th>Neighbourhood</th>\n",
       "      <th>Lat</th>\n",
       "      <th>Lon</th>\n",
       "    </tr>\n",
       "  </thead>\n",
       "  <tbody>\n",
       "    <tr>\n",
       "      <th>(West Portal, 37.74026, -122.46388)</th>\n",
       "      <td>NaN</td>\n",
       "      <td>NaN</td>\n",
       "      <td>NaN</td>\n",
       "    </tr>\n",
       "    <tr>\n",
       "      <th>(Western Addition, 37.79298, -122.43579)</th>\n",
       "      <td>NaN</td>\n",
       "      <td>NaN</td>\n",
       "      <td>NaN</td>\n",
       "    </tr>\n",
       "    <tr>\n",
       "      <th>(Westwood Highlands, 37.7347, -122.456854)</th>\n",
       "      <td>NaN</td>\n",
       "      <td>NaN</td>\n",
       "      <td>NaN</td>\n",
       "    </tr>\n",
       "    <tr>\n",
       "      <th>(Westwood Park, 37.73415, -122.457)</th>\n",
       "      <td>NaN</td>\n",
       "      <td>NaN</td>\n",
       "      <td>NaN</td>\n",
       "    </tr>\n",
       "    <tr>\n",
       "      <th>(Yerba Buena, 37.79298, -122.39636)</th>\n",
       "      <td>NaN</td>\n",
       "      <td>NaN</td>\n",
       "      <td>NaN</td>\n",
       "    </tr>\n",
       "  </tbody>\n",
       "</table>\n",
       "</div>"
      ],
      "text/plain": [
       "                                           Neighbourhood  Lat  Lon\n",
       "(West Portal, 37.74026, -122.46388)                  NaN  NaN  NaN\n",
       "(Western Addition, 37.79298, -122.43579)             NaN  NaN  NaN\n",
       "(Westwood Highlands, 37.7347, -122.456854)           NaN  NaN  NaN\n",
       "(Westwood Park, 37.73415, -122.457)                  NaN  NaN  NaN\n",
       "(Yerba Buena, 37.79298, -122.39636)                  NaN  NaN  NaN"
      ]
     },
     "metadata": {},
     "output_type": "display_data"
    }
   ],
   "source": [
    "# Using the Pandas `concat` function, join the \n",
    "# neighbourhood_locations_df and the all_neighbourhood_info_df DataFrame\n",
    "# The axis of the concatenation is \"columns\".\n",
    "# The concat function will automatially combine columns with\n",
    "# identical information, while keeping the additional columns.\n",
    "all_neighbourhoods_df = pd.concat([neighbourhood_locations_df, all_neighbourhood_info_df], axis=\"columns\", sort=False)\n",
    "\n",
    "# Review the resulting DataFrame\n",
    "display(all_neighbourhoods_df.head())\n",
    "display(all_neighbourhoods_df.tail())\n"
   ]
  },
  {
   "cell_type": "code",
   "execution_count": 110,
   "metadata": {},
   "outputs": [
    {
     "name": "stdout",
     "output_type": "stream",
     "text": [
      "  Neighbourhood Neighbourhood Neighbourhood Neighbourhood    Neighbourhood  \\\n",
      "0             0             0             0             0     Alamo Square   \n",
      "1             1             1             1             1       Anza Vista   \n",
      "2             2             2             2             2          Bayview   \n",
      "3             3             3             3             3  Bayview Heights   \n",
      "4             4             4             4             4   Bernal Heights   \n",
      "\n",
      "         Lat         Lon  \n",
      "0  37.791012 -122.402100  \n",
      "1  37.779598 -122.443451  \n",
      "2  37.734670 -122.401060  \n",
      "3  37.728740 -122.410980  \n",
      "4  37.728630 -122.443050  \n",
      "   Neighbourhood Neighbourhood Neighbourhood Neighbourhood  \\\n",
      "68            68            68            68            68   \n",
      "69            69            69            69            69   \n",
      "70            70            70            70            70   \n",
      "71            71            71            71            71   \n",
      "72            72            72            72            72   \n",
      "\n",
      "         Neighbourhood       Lat         Lon  \n",
      "68         West Portal  37.74026 -122.463880  \n",
      "69    Western Addition  37.79298 -122.435790  \n",
      "70  Westwood Highlands  37.73470 -122.456854  \n",
      "71       Westwood Park  37.73415 -122.457000  \n",
      "72         Yerba Buena  37.79298 -122.396360  \n"
     ]
    }
   ],
   "source": [
    "# Call the dropna function to remove any neighbourhoods that do not have data\n",
    "all_neighbourhoods_df = all_neighbourhoods_df.dropna()\n",
    "\n",
    "# Rename the \"index\" column as \"Neighbourhood\" for use in the Visualisation\n",
    "all_neighbourhoods_df = all_neighbourhoods_df.rename(columns={\"index\": \"Neighbourhood\"})\n",
    "\n",
    "# Review the resulting DataFrame\n",
    "print(all_neighbourhoods_df.head())\n",
    "print(all_neighbourhoods_df.tail())"
   ]
  }
 ],
 "metadata": {
  "file_extension": ".py",
  "kernelspec": {
   "display_name": "Python 3 (ipykernel)",
   "language": "python",
   "name": "python3"
  },
  "language_info": {
   "codemirror_mode": {
    "name": "ipython",
    "version": 3
   },
   "file_extension": ".py",
   "mimetype": "text/x-python",
   "name": "python",
   "nbconvert_exporter": "python",
   "pygments_lexer": "ipython3",
   "version": "3.7.13"
  },
  "mimetype": "text/x-python",
  "name": "python",
  "npconvert_exporter": "python",
  "pygments_lexer": "ipython3",
  "version": 3
 },
 "nbformat": 4,
 "nbformat_minor": 4
}
